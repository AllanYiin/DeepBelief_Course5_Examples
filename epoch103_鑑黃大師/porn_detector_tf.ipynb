{
 "cells": [
  {
   "cell_type": "code",
   "execution_count": 1,
   "metadata": {},
   "outputs": [],
   "source": [
    "%matplotlib inline\n",
    "import matplotlib\n",
    "import matplotlib.pyplot as plt\n",
    "from IPython import display\n"
   ]
  },
  {
   "cell_type": "markdown",
   "metadata": {},
   "source": [
    "# 鑑黃大師 (pytorch)"
   ]
  },
  {
   "cell_type": "raw",
   "metadata": {},
   "source": [
    "支援python 版本: 3.5以上\n",
    "支援pytorch版本 : 1.2以上"
   ]
  },
  {
   "cell_type": "code",
   "execution_count": 2,
   "metadata": {},
   "outputs": [
    {
     "name": "stderr",
     "output_type": "stream",
     "text": [
      "trident 0.5.6\n",
      "Using TensorFlow backend.\n",
      "Image Data Format: channels_last.\n",
      "Image Channel Order: rgb.\n",
      "Using pillow image backend.\n",
      "Pillow version:7.1.2.\n"
     ]
    },
    {
     "name": "stdout",
     "output_type": "stream",
     "text": [
      "Tensorflow version:2.2.0.\n",
      "use device:PhysicalDevice(name='/physical_device:GPU:0', device_type='GPU').\n",
      "executing_eagerly\n"
     ]
    }
   ],
   "source": [
    "import glob\n",
    "import os\n",
    "import cv2\n",
    "os.environ['TRIDENT_BACKEND'] = 'tensorflow'\n",
    "#!pip install tridentx --upgrade\n",
    "import trident as T\n",
    "from trident import *\n",
    "from trident.models import efficientnet"
   ]
  },
  {
   "cell_type": "raw",
   "metadata": {},
   "source": [
    "網路上信息流通如此方便，也因此包括不宜兒童觀賞的成人信息也都能被輕易取得，在台灣沒有那麼嚴格的信息審查制度，在彼岸，還有一種稱為鑑黃師的職業，每天負責看網路上的各種情色信息並且標註標籤。不要以為這是一份天堂般快樂的職業，如果你得一天八小時不停的看，恐怕都要看出內傷了。這麼不人道的行業我們還是交給人工智能來處理，我們今天的實作就是要來做出能夠鑑別色情內容的鑑黃模型。"
   ]
  },
  {
   "cell_type": "markdown",
   "metadata": {},
   "source": [
    "![Alt text](../images/porndetector.jpg)"
   ]
  },
  {
   "cell_type": "raw",
   "metadata": {},
   "source": [
    "這次我們使用的是nsfw公開數據集，他裡面共計有dawings(非色情繪畫)、hentai(變態的二次元漫畫)、neutral(正常一般圖片)、porn(色情圖片)以及sexy(性感圖片)這五種，也就是這是一個五分類的預測模型。由於圖片數量非常龐大，原始來源有22萬張，在我實際抓取後在經過去重複之後，大約還有20.5萬張，是足夠做出不錯的模型才是。由於我不能直接散佈色情圖片，因此我是從中間隨機抽取10000張做為訓練集(尺寸縮小為64*64)，5000張做為測試集(尺寸縮小為64*64)，作為本次實作的訓練使用。\n",
    "\n",
    "如果各位需要尺寸較大或者是數量更多的圖資(僅供學術使用)，各位可以直接到以下位置取得數據集 https://github.com/alexkimxyz/nsfw_data_scrapper"
   ]
  },
  {
   "cell_type": "markdown",
   "metadata": {},
   "source": [
    "![Alt text](../images/pornclass.jpg)"
   ]
  },
  {
   "cell_type": "code",
   "execution_count": 3,
   "metadata": {},
   "outputs": [
    {
     "name": "stdout",
     "output_type": "stream",
     "text": [
      "archive file is already existing, donnot need download again.\n",
      "extraction is finished, donnot need extract again.\n",
      "training images: 10001  test images:5746\n",
      "Mapping class_names  in en-us   success, total 5 class names added.\n",
      "Mapping class_names  in zh-tw   success, total 5 class names added.\n",
      "Mapping class_names  in zh-cn   success, total 5 class names added.\n"
     ]
    }
   ],
   "source": [
    "dataset=load_examples_data('nsfw')\n",
    "dataset.image_transform_funcs=[\n",
    "    random_adjust_gamma(gamma=(0.8,1.2)),\n",
    "    #隨機調整圖片明暗gamma 0.6~1.4之間\n",
    "    random_adjust_contrast(scale=(0.8, 1.2)),\n",
    "    #隨機調整圖片對比度\n",
    "    random_adjust_hue(),\n",
    "    #隨機調整色相\n",
    "    add_noise(intensity=np.random.choice(np.arange(0.001,0.1,0.0005))),\n",
    "    #隨機加入噪音\n",
    "    random_center_crop(224,224,scale=(0.9,1.1)),\n",
    "    normalize(0, 255),  \n",
    "    normalize([0.485, 0.456, 0.406], [0.229, 0.224, 0.225])]\n",
    "\n",
    "#數據集的圖片處理流程image_transform_funcs為標準imagenet標準化\n",
    "#加上隨機調整色相random_adjust_hue以及隨機等比例縮放中心裁切random_center_crop"
   ]
  },
  {
   "cell_type": "raw",
   "metadata": {},
   "source": [
    "要是各位還覺得這個分類實在太粗糙，希望能有更詳細、規模更大的數據集(基於學術研究以及打擊網路色情的熱情?)，既然本次實作是升級版，當然有要提供更進階的圖資資訊囉，這個數據集總量高達158萬張圖，而且被細分至159個子類(如下圖)，圖資的位置就在:\n",
    "\n",
    "https://github.com/EBazarov/nsfw_data_source_urls\n"
   ]
  },
  {
   "cell_type": "markdown",
   "metadata": {},
   "source": [
    "![Alt text](../images/nsfw_data.jpg)"
   ]
  },
  {
   "cell_type": "raw",
   "metadata": {},
   "source": [
    "這次實作我們將使用的骨幹網路是谷歌於2019年3月所提出的EfficientNet，這個EfficientNet特別之處在於過去我們在調整神經網路結構時常使用的超參數包括了更寬(通道數)、更深(層數)以及更清晰(圖片解析度)，過去通常是這三個超參數獨立調整，而EfficientNet則是透過神經網路結構搜索(NAS)，找到了這三個超參數均勻連動的規律，讓模型結構可以同時兼顧3個超參數均勻的變動，由於這是透過神經網路結構搜索找出的最佳結構，因此EfficientNet-B7在 imagenet 上的TOP1準確率達到了史上最佳成績84.4%，在純CPU環境下模型大小只有谷歌之前提出的Gpipe的8.4分之1，但是執行速度卻快6.1倍。算是完美的達到了用較少參數來獲得更佳成績。\n",
    "\n",
    "若要閱讀詳細論文請參考：\n",
    "https://arxiv.org/abs/1905.11946\n",
    "\n",
    "我們在這個實作中，將使用EfficientNet家族中最輕量的EfficientNet-B0來作為骨幹網路。"
   ]
  },
  {
   "cell_type": "markdown",
   "metadata": {},
   "source": [
    "![Alt text](../images/EfficientNet.jpg)"
   ]
  },
  {
   "cell_type": "code",
   "execution_count": 4,
   "metadata": {},
   "outputs": [
    {
     "name": "stdout",
     "output_type": "stream",
     "text": [
      "model file is already existing, donnot need download again.\n",
      "723637 parameters have set untrainable\n",
      "6405 parameters have set trainable\n",
      "717232 parameters have set trainable\n"
     ]
    }
   ],
   "source": [
    "#獲取EfficientNet-B0預訓練模型\n",
    "#將全連接層長度改為5\n",
    "effb0=efficientnet.EfficientNetB0(include_top=True,\n",
    "             pretrained=True,\n",
    "             input_shape=(224,224,3),\n",
    "             classes=5)\n",
    "\n",
    "#只開放全連接層以及最後一組Efficient Block開放學習\n",
    "effb0.model.trainable=False\n",
    "effb0.model.fc.trainable=True\n",
    "effb0.model.block7a.trainable=True\n"
   ]
  },
  {
   "cell_type": "raw",
   "metadata": {},
   "source": [
    "由於這次時做模型的重點在於要能正確的區辨色情圖片，為了避免最後的模型可能發生整體準確率高但是色情圖片的識別能力卻很弱，我們在模型評估指標準多加入了召回率(recall，在所有色情圖片中，實際上被正確預測的比例)，這跟正確率(在所有預測是色情圖片的案例中，實際上被正確預測的比例)差別在於分布不同，正確率是避免錯殺，而召回率是避免錯放。"
   ]
  },
  {
   "cell_type": "code",
   "execution_count": 5,
   "metadata": {},
   "outputs": [],
   "source": [
    "#召回率\n",
    "def recall(output,target):\n",
    "    input_tensor=squeeze(argmax(output,-1))#將預測結果透過argmax，產生類別的判斷\n",
    "    target_tensor=squeeze(argmax(target,-1))#將答案標籤透過argmax，產生類別的判斷\n",
    "    input_tensor=equal(input_tensor,3) #檢查那些預測結果是3(色情圖片)\n",
    "    target_tensor=equal(target_tensor,3) #檢查那些答案是3(色情圖片)\n",
    "    metric=reduce_sum(input_tensor*target_tensor)/clip(reduce_sum(target_tensor),1)\n",
    "    return metric\n",
    "\n",
    "#input_tensor*target_tensor兩個相乘結果為1，則表示實際是色情圖片且正確被預測\n",
    "#除以所有的色情圖片總數target_tensor.sum()就可以獲得召回率"
   ]
  },
  {
   "cell_type": "raw",
   "metadata": {},
   "source": [
    "使用預訓練模型微調(fine-tuning)有個非常重要的訣竅，就是千萬不要一下子開放太多權重供學習，因為這樣會讓原本預訓練的權重很快的被目前較小的數據集影響而拉偏了。但是，開放可學習權重過少也會影響微調模型的最終成效。因此，最好的策略是訓練的進度逐步開放，一開始只開放全連接層以及最後一組卷積block來做微調，然後逐步開放。為了要做到這樣的效果，我們就要寫一個自定義的Callback，在on_epoch_start事件中，根據目前的current_epoch來逐步開放另外三組權重。"
   ]
  },
  {
   "cell_type": "code",
   "execution_count": 6,
   "metadata": {},
   "outputs": [],
   "source": [
    "class CustomCallback(CallbackBase):\n",
    "    def __init__(self):\n",
    "        super(CustomCallback, self).__init__()\n",
    "    def on_epoch_start(self, training_context):\n",
    "        if training_context['current_epoch']==2:\n",
    "            training_context['current_model'].block6d.trainable=True #透過training_context切換模型指定層的trainable狀態\n",
    "        if training_context['current_epoch']==10:\n",
    "            training_context['current_model'].block6c.trainable=True #透過training_context切換模型指定層的trainable狀態\n",
    "        if training_context['current_epoch']==15:\n",
    "            training_context['current_model'].block6b.trainable=True #透過training_context切換模型指定層的trainable狀態\n",
    "    "
   ]
  },
  {
   "cell_type": "raw",
   "metadata": {},
   "source": [
    "接下來則是設定模型訓練的相關訊息。其中，優化器部分還是使用強力推薦的Ranger(比Adam還要強大)，學習速率我的初始值為1e-3，原因在於把學習速率調大，整個模型收斂速度會非常快。"
   ]
  },
  {
   "cell_type": "code",
   "execution_count": 7,
   "metadata": {},
   "outputs": [
    {
     "name": "stdout",
     "output_type": "stream",
     "text": [
      "CrossEntropyLoss( output, target) -> CrossEntropyLoss \n",
      "f1_score( output, target) -> f1_score \n",
      "accuracy( output, target) -> accuracy \n",
      "recall( output, target) -> recall \n",
      "--------------------------------------------------------------------------------------------------------------------------------\n",
      "              Layer (type)                   Output Shape            Weight           Bias    Param #     FLOPS #   \n",
      "==============================================================================\n",
      "conv2d_1                                 [-1, 112, 112, 32]       [3, 3, 3, 32]                 864      21663488.0 \n",
      "batch_norm_1                             [-1, 112, 112, 32]            [32]           [32]       64      1191680.0  \n",
      "stem                                     [-1, 112, 112, 32]                                      0          0.0     \n",
      "block1a_dwconv                           [-1, 112, 112, 32]                                      0          0.0     \n",
      "batch_norm_2                             [-1, 112, 112, 32]            [32]           [32]       64      1191680.0  \n",
      "avg_pool                                 [-1, 1280]                                              0          0.0     \n",
      "squeeze_excite_1_squeeze                 [-1, 1, 1, 8]            [1, 1, 32, 8]       [8]       264        519.0    \n",
      "squeeze_excite_1_excite                  [-1, 1, 1, 32]           [1, 1, 8, 32]       [32]      288        543.0    \n",
      "squeeze_excite_1                         [-1, 112, 112, 32]                                      0          0.0     \n",
      "conv2d_2                                 [-1, 112, 112, 16]       [1, 1, 32, 16]                512      12832512.0 \n",
      "batch_norm_3                             [-1, 112, 112, 16]            [16]           [16]       32       589568.0  \n",
      "block1a_se                               [-1, 112, 112, 16]                                      0          0.0     \n",
      "identity_1                               [-1, 112, 112, 16]                                      0          0.0     \n",
      "conv2d_3                                 [-1, 112, 112, 96]       [1, 1, 16, 96]                1536     38522624.0 \n",
      "batch_norm_4                             [-1, 112, 112, 96]            [96]           [96]      192      3600128.0  \n",
      "block2a_expand_bn                        [-1, 112, 112, 96]                                      0          0.0     \n",
      "block2a_dwconv                           [-1, 56, 56, 96]                                        0          0.0     \n",
      "batch_norm_5                             [-1, 56, 56, 96]              [96]           [96]      192       900032.0  \n",
      "squeeze_excite_2_squeeze                 [-1, 1, 1, 4]            [1, 1, 96, 4]       [4]       388        771.0    \n",
      "squeeze_excite_2_excite                  [-1, 1, 1, 96]           [1, 1, 4, 96]       [96]      480        863.0    \n",
      "squeeze_excite_2                         [-1, 56, 56, 96]                                        0          0.0     \n",
      "conv2d_4                                 [-1, 56, 56, 24]         [1, 1, 96, 24]                2304     14447552.0 \n",
      "batch_norm_6                             [-1, 56, 56, 24]              [24]           [24]       48       222656.0  \n",
      "block2a_se                               [-1, 56, 56, 24]                                        0          0.0     \n",
      "identity_2                               [-1, 56, 56, 24]                                        0          0.0     \n",
      "conv2d_5                                 [-1, 56, 56, 144]       [1, 1, 24, 144]                3456     21672896.0 \n",
      "batch_norm_7                             [-1, 56, 56, 144]            [144]          [144]      288      1351616.0  \n",
      "block2b_expand_bn                        [-1, 56, 56, 144]                                       0          0.0     \n",
      "block2b_dwconv                           [-1, 56, 56, 144]                                       0          0.0     \n",
      "batch_norm_8                             [-1, 56, 56, 144]            [144]          [144]      288      1351616.0  \n",
      "squeeze_excite_3_squeeze                 [-1, 1, 1, 6]            [1, 1, 144, 6]      [6]       870        1733.0   \n",
      "squeeze_excite_3_excite                  [-1, 1, 1, 144]          [1, 1, 6, 144]     [144]      1008       1871.0   \n",
      "squeeze_excite_3                         [-1, 56, 56, 144]                                       0          0.0     \n",
      "conv2d_6                                 [-1, 56, 56, 24]        [1, 1, 144, 24]                3456     21672896.0 \n",
      "batch_norm_9                             [-1, 56, 56, 24]              [24]           [24]       48       222656.0  \n",
      "block2b_se                               [-1, 56, 56, 24]                                        0          0.0     \n",
      "dropout_1                                [-1, 56, 56, 24]                                        0          0.0     \n",
      "short_cut2d_1                            [-1, 56, 56, 24]                                        0          0.0     \n",
      "conv2d_7                                 [-1, 56, 56, 144]       [1, 1, 24, 144]                3456     21672896.0 \n",
      "batch_norm_10                            [-1, 56, 56, 144]            [144]          [144]      288      1351616.0  \n",
      "block3a_expand_bn                        [-1, 56, 56, 144]                                       0          0.0     \n",
      "block3a_dwconv                           [-1, 28, 28, 144]                                       0          0.0     \n",
      "batch_norm_11                            [-1, 28, 28, 144]            [144]          [144]      288       337904.0  \n",
      "squeeze_excite_4_squeeze                 [-1, 1, 1, 6]            [1, 1, 144, 6]      [6]       870        1733.0   \n",
      "squeeze_excite_4_excite                  [-1, 1, 1, 144]          [1, 1, 6, 144]     [144]      1008       1871.0   \n",
      "squeeze_excite_4                         [-1, 28, 28, 144]                                       0          0.0     \n",
      "conv2d_8                                 [-1, 28, 28, 40]        [1, 1, 144, 40]                5760     9030896.0  \n",
      "batch_norm_12                            [-1, 28, 28, 40]              [40]           [40]       80       93296.0   \n",
      "block3a_se                               [-1, 28, 28, 40]                                        0          0.0     \n",
      "identity_4                               [-1, 28, 28, 40]                                        0          0.0     \n",
      "conv2d_9                                 [-1, 28, 28, 240]       [1, 1, 40, 240]                9600     15052016.0 \n",
      "batch_norm_13                            [-1, 28, 28, 240]            [240]          [240]      480       563696.0  \n",
      "block3b_expand_bn                        [-1, 28, 28, 240]                                       0          0.0     \n",
      "block3b_dwconv                           [-1, 28, 28, 240]                                       0          0.0     \n",
      "batch_norm_14                            [-1, 28, 28, 240]            [240]          [240]      480       563696.0  \n",
      "squeeze_excite_5_squeeze                 [-1, 1, 1, 10]          [1, 1, 240, 10]      [10]      2410       4809.0   \n",
      "squeeze_excite_5_excite                  [-1, 1, 1, 240]         [1, 1, 10, 240]     [240]      2640       5039.0   \n",
      "squeeze_excite_5                         [-1, 28, 28, 240]                                       0          0.0     \n",
      "conv2d_10                                [-1, 28, 28, 40]        [1, 1, 240, 40]                9600     15052016.0 \n",
      "batch_norm_15                            [-1, 28, 28, 40]              [40]           [40]       80       93296.0   \n",
      "block3b_se                               [-1, 28, 28, 40]                                        0          0.0     \n",
      "dropout_2                                [-1, 28, 28, 40]                                        0          0.0     \n",
      "short_cut2d_2                            [-1, 28, 28, 40]                                        0          0.0     \n",
      "conv2d_11                                [-1, 28, 28, 240]       [1, 1, 40, 240]                9600     15052016.0 \n",
      "batch_norm_16                            [-1, 28, 28, 240]            [240]          [240]      480       563696.0  \n",
      "block4a_expand_bn                        [-1, 28, 28, 240]                                       0          0.0     \n",
      "block4a_dwconv                           [-1, 14, 14, 240]                                       0          0.0     \n",
      "batch_norm_17                            [-1, 14, 14, 240]            [240]          [240]      480       140924.0  \n",
      "squeeze_excite_6_squeeze                 [-1, 1, 1, 10]          [1, 1, 240, 10]      [10]      2410       4809.0   \n",
      "squeeze_excite_6_excite                  [-1, 1, 1, 240]         [1, 1, 10, 240]     [240]      2640       5039.0   \n",
      "squeeze_excite_6                         [-1, 14, 14, 240]                                       0          0.0     \n",
      "conv2d_12                                [-1, 14, 14, 80]        [1, 1, 240, 80]               19200     7526204.0  \n",
      "batch_norm_18                            [-1, 14, 14, 80]              [80]           [80]      160       46844.0   \n",
      "block4a_se                               [-1, 14, 14, 80]                                        0          0.0     \n",
      "identity_6                               [-1, 14, 14, 80]                                        0          0.0     \n",
      "conv2d_13                                [-1, 14, 14, 480]       [1, 1, 80, 480]               38400     15052604.0 \n",
      "batch_norm_19                            [-1, 14, 14, 480]            [480]          [480]      960       282044.0  \n",
      "block4b_expand_bn                        [-1, 14, 14, 480]                                       0          0.0     \n",
      "block4b_dwconv                           [-1, 14, 14, 480]                                       0          0.0     \n",
      "batch_norm_20                            [-1, 14, 14, 480]            [480]          [480]      960       282044.0  \n",
      "squeeze_excite_7_squeeze                 [-1, 1, 1, 20]          [1, 1, 480, 20]      [20]      9620      19219.0   \n",
      "squeeze_excite_7_excite                  [-1, 1, 1, 480]         [1, 1, 20, 480]     [480]     10080      19679.0   \n",
      "squeeze_excite_7                         [-1, 14, 14, 480]                                       0          0.0     \n",
      "conv2d_14                                [-1, 14, 14, 80]        [1, 1, 480, 80]               38400     15052604.0 \n",
      "batch_norm_21                            [-1, 14, 14, 80]              [80]           [80]      160       46844.0   \n",
      "block4b_se                               [-1, 14, 14, 80]                                        0          0.0     \n",
      "dropout_3                                [-1, 14, 14, 80]                                        0          0.0     \n",
      "short_cut2d_3                            [-1, 14, 14, 80]                                        0          0.0     \n",
      "conv2d_15                                [-1, 14, 14, 480]       [1, 1, 80, 480]               38400     15052604.0 \n",
      "batch_norm_22                            [-1, 14, 14, 480]            [480]          [480]      960       282044.0  \n",
      "block4c_expand_bn                        [-1, 14, 14, 480]                                       0          0.0     \n",
      "block4c_dwconv                           [-1, 14, 14, 480]                                       0          0.0     \n",
      "batch_norm_23                            [-1, 14, 14, 480]            [480]          [480]      960       282044.0  \n",
      "squeeze_excite_8_squeeze                 [-1, 1, 1, 20]          [1, 1, 480, 20]      [20]      9620      19219.0   \n",
      "squeeze_excite_8_excite                  [-1, 1, 1, 480]         [1, 1, 20, 480]     [480]     10080      19679.0   \n",
      "squeeze_excite_8                         [-1, 14, 14, 480]                                       0          0.0     \n",
      "conv2d_16                                [-1, 14, 14, 80]        [1, 1, 480, 80]               38400     15052604.0 \n",
      "batch_norm_24                            [-1, 14, 14, 80]              [80]           [80]      160       46844.0   \n",
      "block4c_se                               [-1, 14, 14, 80]                                        0          0.0     \n",
      "dropout_4                                [-1, 14, 14, 80]                                        0          0.0     \n",
      "short_cut2d_4                            [-1, 14, 14, 80]                                        0          0.0     \n",
      "conv2d_17                                [-1, 14, 14, 480]       [1, 1, 80, 480]               38400     15052604.0 \n",
      "batch_norm_25                            [-1, 14, 14, 480]            [480]          [480]      960       282044.0  \n",
      "block5a_expand_bn                        [-1, 14, 14, 480]                                       0          0.0     \n",
      "block5a_dwconv                           [-1, 14, 14, 480]                                       0          0.0     \n",
      "batch_norm_26                            [-1, 14, 14, 480]            [480]          [480]      960       282044.0  \n",
      "squeeze_excite_9_squeeze                 [-1, 1, 1, 20]          [1, 1, 480, 20]      [20]      9620      19219.0   \n",
      "squeeze_excite_9_excite                  [-1, 1, 1, 480]         [1, 1, 20, 480]     [480]     10080      19679.0   \n",
      "squeeze_excite_9                         [-1, 14, 14, 480]                                       0          0.0     \n",
      "conv2d_18                                [-1, 14, 14, 112]       [1, 1, 480, 112]              53760     21073724.0 \n",
      "batch_norm_27                            [-1, 14, 14, 112]            [112]          [112]      224       65660.0   \n",
      "block5a_se                               [-1, 14, 14, 112]                                       0          0.0     \n",
      "identity_9                               [-1, 14, 14, 112]                                       0          0.0     \n",
      "conv2d_19                                [-1, 14, 14, 672]       [1, 1, 112, 672]              75264     29503292.0 \n",
      "batch_norm_28                            [-1, 14, 14, 672]            [672]          [672]      1344      394940.0  \n",
      "block5b_expand_bn                        [-1, 14, 14, 672]                                       0          0.0     \n",
      "block5b_dwconv                           [-1, 14, 14, 672]                                       0          0.0     \n",
      "batch_norm_29                            [-1, 14, 14, 672]            [672]          [672]      1344      394940.0  \n",
      "squeeze_excite_10_squeeze                [-1, 1, 1, 28]          [1, 1, 672, 28]      [28]     18844      37659.0   \n",
      "squeeze_excite_10_excite                 [-1, 1, 1, 672]         [1, 1, 28, 672]     [672]     19488      38303.0   \n",
      "squeeze_excite_10                        [-1, 14, 14, 672]                                       0          0.0     \n",
      "conv2d_20                                [-1, 14, 14, 112]       [1, 1, 672, 112]              75264     29503292.0 \n",
      "batch_norm_30                            [-1, 14, 14, 112]            [112]          [112]      224       65660.0   \n",
      "block5b_se                               [-1, 14, 14, 112]                                       0          0.0     \n",
      "dropout_5                                [-1, 14, 14, 112]                                       0          0.0     \n",
      "short_cut2d_5                            [-1, 14, 14, 112]                                       0          0.0     \n",
      "conv2d_21                                [-1, 14, 14, 672]       [1, 1, 112, 672]              75264     29503292.0 \n",
      "batch_norm_31                            [-1, 14, 14, 672]            [672]          [672]      1344      394940.0  \n",
      "block5c_expand_bn                        [-1, 14, 14, 672]                                       0          0.0     \n",
      "block5c_dwconv                           [-1, 14, 14, 672]                                       0          0.0     \n",
      "batch_norm_32                            [-1, 14, 14, 672]            [672]          [672]      1344      394940.0  \n",
      "squeeze_excite_11_squeeze                [-1, 1, 1, 28]          [1, 1, 672, 28]      [28]     18844      37659.0   \n",
      "squeeze_excite_11_excite                 [-1, 1, 1, 672]         [1, 1, 28, 672]     [672]     19488      38303.0   \n",
      "squeeze_excite_11                        [-1, 14, 14, 672]                                       0          0.0     \n",
      "conv2d_22                                [-1, 14, 14, 112]       [1, 1, 672, 112]              75264     29503292.0 \n",
      "batch_norm_33                            [-1, 14, 14, 112]            [112]          [112]      224       65660.0   \n",
      "block5c_se                               [-1, 14, 14, 112]                                       0          0.0     \n",
      "dropout_6                                [-1, 14, 14, 112]                                       0          0.0     \n",
      "short_cut2d_6                            [-1, 14, 14, 112]                                       0          0.0     \n",
      "conv2d_23                                [-1, 14, 14, 672]       [1, 1, 112, 672]              75264     29503292.0 \n",
      "batch_norm_34                            [-1, 14, 14, 672]            [672]          [672]      1344      394940.0  \n",
      "block6a_expand_bn                        [-1, 14, 14, 672]                                       0          0.0     \n",
      "block6a_dwconv                           [-1, 7, 7, 672]                                         0          0.0     \n",
      "batch_norm_35                            [-1, 7, 7, 672]              [672]          [672]      1344      98735.0   \n",
      "squeeze_excite_12_squeeze                [-1, 1, 1, 28]          [1, 1, 672, 28]      [28]     18844      37659.0   \n",
      "squeeze_excite_12_excite                 [-1, 1, 1, 672]         [1, 1, 28, 672]     [672]     19488      38303.0   \n",
      "squeeze_excite_12                        [-1, 7, 7, 672]                                         0          0.0     \n",
      "conv2d_24                                [-1, 7, 7, 192]         [1, 1, 672, 192]              129024    12644303.0 \n",
      "batch_norm_36                            [-1, 7, 7, 192]              [192]          [192]      384       28175.0   \n",
      "block6a_se                               [-1, 7, 7, 192]                                         0          0.0     \n",
      "identity_12                              [-1, 7, 7, 192]                                         0          0.0     \n",
      "conv2d_25                                [-1, 7, 7, 1152]       [1, 1, 192, 1152]              221184    21675983.0 \n",
      "batch_norm_37                            [-1, 7, 7, 1152]             [1152]         [1152]     2304      169295.0  \n",
      "block6b_expand_bn                        [-1, 7, 7, 1152]                                        0          0.0     \n",
      "block6b_dwconv                           [-1, 7, 7, 1152]                                        0          0.0     \n",
      "batch_norm_38                            [-1, 7, 7, 1152]             [1152]         [1152]     2304      169295.0  \n",
      "squeeze_excite_13_squeeze                [-1, 1, 1, 48]          [1, 1, 1152, 48]     [48]     55344      110639.0  \n",
      "squeeze_excite_13_excite                 [-1, 1, 1, 1152]        [1, 1, 48, 1152]    [1152]    56448      111743.0  \n",
      "squeeze_excite_13                        [-1, 7, 7, 1152]                                        0          0.0     \n",
      "conv2d_26                                [-1, 7, 7, 192]        [1, 1, 1152, 192]              221184    21675983.0 \n",
      "batch_norm_39                            [-1, 7, 7, 192]              [192]          [192]      384       28175.0   \n",
      "block6b_se                               [-1, 7, 7, 192]                                         0          0.0     \n",
      "dropout_7                                [-1, 7, 7, 192]                                         0          0.0     \n",
      "short_cut2d_7                            [-1, 7, 7, 192]                                         0          0.0     \n",
      "conv2d_27                                [-1, 7, 7, 1152]       [1, 1, 192, 1152]              221184    21675983.0 \n",
      "batch_norm_40                            [-1, 7, 7, 1152]             [1152]         [1152]     2304      169295.0  \n",
      "block6c_expand_bn                        [-1, 7, 7, 1152]                                        0          0.0     \n",
      "block6c_dwconv                           [-1, 7, 7, 1152]                                        0          0.0     \n",
      "batch_norm_41                            [-1, 7, 7, 1152]             [1152]         [1152]     2304      169295.0  \n",
      "squeeze_excite_14_squeeze                [-1, 1, 1, 48]          [1, 1, 1152, 48]     [48]     55344      110639.0  \n",
      "squeeze_excite_14_excite                 [-1, 1, 1, 1152]        [1, 1, 48, 1152]    [1152]    56448      111743.0  \n",
      "squeeze_excite_14                        [-1, 7, 7, 1152]                                        0          0.0     \n",
      "conv2d_28                                [-1, 7, 7, 192]        [1, 1, 1152, 192]              221184    21675983.0 \n",
      "batch_norm_42                            [-1, 7, 7, 192]              [192]          [192]      384       28175.0   \n",
      "block6c_se                               [-1, 7, 7, 192]                                         0          0.0     \n",
      "dropout_8                                [-1, 7, 7, 192]                                         0          0.0     \n",
      "short_cut2d_8                            [-1, 7, 7, 192]                                         0          0.0     \n",
      "conv2d_29                                [-1, 7, 7, 1152]       [1, 1, 192, 1152]              221184    21675983.0 \n",
      "batch_norm_43                            [-1, 7, 7, 1152]             [1152]         [1152]     2304      169295.0  \n",
      "block6d_expand_bn                        [-1, 7, 7, 1152]                                        0          0.0     \n",
      "block6d_dwconv                           [-1, 7, 7, 1152]                                        0          0.0     \n",
      "batch_norm_44                            [-1, 7, 7, 1152]             [1152]         [1152]     2304      169295.0  \n",
      "squeeze_excite_15_squeeze                [-1, 1, 1, 48]          [1, 1, 1152, 48]     [48]     55344      110639.0  \n",
      "squeeze_excite_15_excite                 [-1, 1, 1, 1152]        [1, 1, 48, 1152]    [1152]    56448      111743.0  \n",
      "squeeze_excite_15                        [-1, 7, 7, 1152]                                        0          0.0     \n",
      "conv2d_30                                [-1, 7, 7, 192]        [1, 1, 1152, 192]              221184    21675983.0 \n",
      "batch_norm_45                            [-1, 7, 7, 192]              [192]          [192]      384       28175.0   \n",
      "block6d_se                               [-1, 7, 7, 192]                                         0          0.0     \n",
      "dropout_9                                [-1, 7, 7, 192]                                         0          0.0     \n",
      "short_cut2d_9                            [-1, 7, 7, 192]                                         0          0.0     \n",
      "conv2d_31                                [-1, 7, 7, 1152]       [1, 1, 192, 1152]              221184    21675983.0 \n",
      "batch_norm_46                            [-1, 7, 7, 1152]             [1152]         [1152]     2304      169295.0  \n",
      "block7a_expand_bn                        [-1, 7, 7, 1152]                                        0          0.0     \n",
      "block7a_dwconv                           [-1, 7, 7, 1152]                                        0          0.0     \n",
      "batch_norm_47                            [-1, 7, 7, 1152]             [1152]         [1152]     2304      169295.0  \n",
      "squeeze_excite_16_squeeze                [-1, 1, 1, 48]          [1, 1, 1152, 48]     [48]     55344      110639.0  \n",
      "squeeze_excite_16_excite                 [-1, 1, 1, 1152]        [1, 1, 48, 1152]    [1152]    56448      111743.0  \n",
      "squeeze_excite_16                        [-1, 7, 7, 1152]                                        0          0.0     \n",
      "conv2d_32                                [-1, 7, 7, 320]        [1, 1, 1152, 320]              368640    36126671.0 \n",
      "batch_norm_48                            [-1, 7, 7, 320]              [320]          [320]      640       46991.0   \n",
      "block7a_se                               [-1, 7, 7, 320]                                         0          0.0     \n",
      "identity_16                              [-1, 7, 7, 320]                                         0          0.0     \n",
      "conv2d_33                                [-1, 7, 7, 1280]       [1, 1, 320, 1280]              409600    40140751.0 \n",
      "batch_norm_49                            [-1, 7, 7, 1280]             [1280]         [1280]     2560      188111.0  \n",
      "top_conv                                 [-1, 7, 7, 1280]                                        0          0.0     \n",
      "top_dropout                              [-1, 1280]                                              0          0.0     \n",
      "fc                                       [-1, 5]                    [1280, 5]         [5]       6405      12804.0   \n",
      "softmax                                  [-1, 5]                                                 0          0.0     \n",
      "================================================================\n",
      "Total params: 3,831,937\n",
      "Trainable params: 713,269\n",
      "Non-trainable params: 3,118,668\n",
      "Total MACC: 356,746,784.0\n",
      "Total FLOPs: 0.72011 GFLOPs\n",
      "----------------------------------------------------------------\n",
      "Input size (MB): 0.57\n",
      "Forward/backward pass size (MB): 160.33\n",
      "Params size (MB): 14.62\n",
      "Estimated Total Size (MB): 175.53\n",
      "----------------------------------------------------------------\n"
     ]
    }
   ],
   "source": [
    "effb0=effb0\\\n",
    "    .with_optimizer(optimizer='Ranger',lr=1e-3,betas=(0.9, 0.999))\\\n",
    "    .with_loss(CrossEntropyLoss)\\\n",
    "    .with_loss(F1ScoreLoss(beta=0.5),name='f1_score')\\\n",
    "    .with_metric(accuracy,name='accuracy')\\\n",
    "    .with_metric(recall,name='recall')\\\n",
    "    .with_regularizer('l2')\\\n",
    "    .with_constraint('min_max_norm')\\\n",
    "    .with_model_save_path('Models/effb0_v2_tf.pth')\\\n",
    "    .with_learning_rate_scheduler(reduce_lr_on_plateau,monitor='accuracy',mode='max',factor=0.5,patience=3,cooldown=2,threshold=5e-4,warmup=0)\\\n",
    "    .with_callbacks(CustomCallback())\n",
    "\n",
    "#指定優化器(使用Ranger)\n",
    "#設定損失函數(交叉熵)\n",
    "#設定評估函數(正確率與召回率)\n",
    "#設定l2正則化\n",
    "#設定max_min_norm權重約束\n",
    "#指定模型存檔位置\n",
    "#指定學習速率調整機制\n",
    "\n",
    "\n",
    "effb0.summary()\n",
    "#檢視模型結構"
   ]
  },
  {
   "cell_type": "code",
   "execution_count": 8,
   "metadata": {},
   "outputs": [],
   "source": [
    "#設定學習計畫\n",
    "#指定資料提供者\n",
    "#跑10個epoach\n",
    "#minibatch_size為16\n",
    "#每10個批次列印一次訓練進度\n",
    "#每100個批次顯示一次loss_metric_curve\n",
    "#每10個批次存檔一次\n",
    "plan=TrainingPlan()\\\n",
    "    .add_training_item(effb0)\\\n",
    "    .with_data_loader(dataset)\\\n",
    "    .repeat_epochs(15)\\\n",
    "    .within_minibatch_size(16)\\\n",
    "    .print_progress_scheduling(20,unit='batch')\\\n",
    "    .display_loss_metric_curve_scheduling(frequency=100,unit='batch',imshow=True)\\\n",
    "    .save_model_scheduling(10,unit='batch')"
   ]
  },
  {
   "cell_type": "code",
   "execution_count": null,
   "metadata": {
    "scrolled": true
   },
   "outputs": [
    {
     "data": {
      "image/png": "[encoded data removed]",
      "text/plain": [
       "<Figure size 1296x576 with 2 Axes>"
      ]
     },
     "metadata": {},
     "output_type": "display_data"
    },
    {
     "name": "stdout",
     "output_type": "stream",
     "text": [
      "model 0      Step: 27s243ms | Loss: 1.709   | accuracy: 68.125% ,recall: 90.926%  | learning rate: 1.000e-03 | epoch: 0  ( 600/626 )\n",
      "model 0      Step: 41s888ms | Loss: 1.754   | accuracy: 67.813% ,recall: 90.310%  | learning rate: 1.000e-03 | epoch: 0  ( 620/626 )\n",
      "model 0: out-of-sample evaluation:  accuracy: 81.250% ,recall: 100.000%\n",
      "model 0      Step: 19s129ms | Loss: 1.853   | accuracy: 61.458% ,recall: 85.787%  | learning rate: 1.000e-03 | epoch: 1  ( 0/626 )\n",
      "{ total_losses: 1.85320246219635, CrossEntropyLoss: 0.8686924576759338, f1_score: 0.889901876449585, l2_reg_Loss: 0.004084379877895117 }\n",
      "model 0      Step: 50s63ms  | Loss: 1.711   | accuracy: 70.625% ,recall: 93.210%  | learning rate: 1.000e-03 | epoch: 1  ( 20/626 )\n",
      "model 0      Step: 44s641ms | Loss: 1.767   | accuracy: 66.562% ,recall: 85.367%  | learning rate: 1.000e-03 | epoch: 1  ( 40/626 )\n",
      "model 0      Step: 54s854ms | Loss: 1.733   | accuracy: 71.250% ,recall: 91.384%  | learning rate: 1.000e-03 | epoch: 1  ( 60/626 )\n",
      "model 0      Step: 47s210ms | Loss: 1.740   | accuracy: 68.437% ,recall: 90.946%  | learning rate: 1.000e-03 | epoch: 1  ( 80/626 )\n"
     ]
    },
    {
     "data": {
      "image/png": "[encoded data removed]",
      "text/plain": [
       "<Figure size 1296x576 with 2 Axes>"
      ]
     },
     "metadata": {},
     "output_type": "display_data"
    },
    {
     "name": "stdout",
     "output_type": "stream",
     "text": [
      "model 0      Step: 49s558ms | Loss: 1.733   | accuracy: 70.938% ,recall: 92.705%  | learning rate: 1.000e-03 | epoch: 1  ( 100/626 )\n",
      "model 0      Step: 46s726ms | Loss: 1.780   | accuracy: 66.562% ,recall: 89.482%  | learning rate: 1.000e-03 | epoch: 1  ( 120/626 )\n",
      "model 0      Step: 46s806ms | Loss: 1.755   | accuracy: 70.000% ,recall: 91.280%  | learning rate: 1.000e-03 | epoch: 1  ( 140/626 )\n"
     ]
    }
   ],
   "source": [
    "#執行訓練\n",
    "plan.start_now()"
   ]
  },
  {
   "cell_type": "raw",
   "metadata": {},
   "source": [
    "從訓練的過程可以看到，隨著正確率緩步提升，模型對於色情圖片的召回率卻衝的很快，訓練初期整體準確率偏低，因此可以推斷那時的模型優先學習了如何判斷色情圖片(由於我們沒有把召回率作為損失函數，因為它不可微分，因此推斷是色情圖片的視覺特徵較明確，機器比較快可以抓到特徵)，當召回率達到高點後，機器也開始學習其他標籤的特徵，但是隨著模型的訓練，整體準確率提升，召回率呈現略有降低，但是仍保持在9成以上的水準。"
   ]
  },
  {
   "cell_type": "raw",
   "metadata": {},
   "source": [
    "就和之前的圖像識別實作類似，在trident中，我們的模型是實做了ImageClassificationModel子類，只要將類別代碼表class_names，以及圖片數據預處理流程preprocess_flow設定好，就可以很方便的直接利用infer_single_image來進行單張圖片推論。由於我們是使用預訓練模型來做微調，因此原本模型對應的是imagenet 1000個類別的代碼表，所以我們需要將它修改為5類別的代碼表，這可以直接從data provider這邊複製過來。"
   ]
  },
  {
   "cell_type": "code",
   "execution_count": null,
   "metadata": {},
   "outputs": [],
   "source": [
    "effb0.class_names=dataset.class_names['zh-tw']"
   ]
  },
  {
   "cell_type": "raw",
   "metadata": {},
   "source": [
    "所以我們就放幾張完全沒有出現在訓練與測試數據集中的圖片，看看模型推論的效果。因為實作是公開開源內容，所以我也不能真的拿露點色情圖片測試，所以我就選取一些可能會被機器誤判的非色情照片，來測試效果是否能正確的區辨。\n",
    "\n",
    "首先我們拿世界名畫，維納斯的誕生，因為它雖然是繪畫卻有出現裸體，看看機器是如何判定的。"
   ]
  },
  {
   "cell_type": "code",
   "execution_count": null,
   "metadata": {},
   "outputs": [],
   "source": [
    "img=read_image('../images/venus.jpg')\n",
    "print(effb0.infer_single_image('../images/venus.jpg',3))\n",
    "img"
   ]
  },
  {
   "cell_type": "raw",
   "metadata": {},
   "source": [
    "接下來我們是拿相撲選手的圖片做測試，相撲選手裸露身體，而且還有巨乳，看看機器是不是會誤以為這是色情圖片。"
   ]
  },
  {
   "cell_type": "code",
   "execution_count": null,
   "metadata": {},
   "outputs": [],
   "source": [
    "img=read_image('../images/sumo.jpg')\n",
    "print(effb0.infer_single_image('../images/sumo.jpg',3))\n",
    "img"
   ]
  },
  {
   "cell_type": "raw",
   "metadata": {},
   "source": [
    "接下來是貝克漢的內褲廣告，這算是性感圖片但還不至於到色情。"
   ]
  },
  {
   "cell_type": "code",
   "execution_count": null,
   "metadata": {},
   "outputs": [],
   "source": [
    "img=read_image('../images/beckham.jpg')\n",
    "print(effb0.infer_single_image('../images/beckham.jpg',3))\n",
    "img"
   ]
  },
  {
   "cell_type": "raw",
   "metadata": {},
   "source": [
    "然後我們測試的圖片是海賊王中身材姣好的娜美的模型，這模型非常強調她的身體曲線"
   ]
  },
  {
   "cell_type": "code",
   "execution_count": null,
   "metadata": {},
   "outputs": [],
   "source": [
    "img=read_image('../images/nami.jpg')\n",
    "print(effb0.infer_single_image('../images/nami.jpg',3))\n",
    "img"
   ]
  },
  {
   "cell_type": "raw",
   "metadata": {},
   "source": [
    "雖然不能真的在內容中使用色情圖片做測試，我這邊就post一下我測試色情圖片的打馬賽克後成果吧~~~"
   ]
  },
  {
   "cell_type": "code",
   "execution_count": null,
   "metadata": {},
   "outputs": [],
   "source": [
    "img=read_image('../images/pornhub.jpg')\n",
    "img"
   ]
  }
 ],
 "metadata": {
  "kernelspec": {
   "display_name": "Python 3",
   "language": "python",
   "name": "python3"
  },
  "language_info": {
   "codemirror_mode": {
    "name": "ipython",
    "version": 3
   },
   "file_extension": ".py",
   "mimetype": "text/x-python",
   "name": "python",
   "nbconvert_exporter": "python",
   "pygments_lexer": "ipython3",
   "version": "3.6.5"
  },
  "pycharm": {
   "stem_cell": {
    "cell_type": "raw",
    "metadata": {
     "collapsed": false
    },
    "source": []
   }
  }
 },
 "nbformat": 4,
 "nbformat_minor": 2
}
