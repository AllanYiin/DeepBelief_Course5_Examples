{
 "cells": [
  {
   "cell_type": "code",
   "execution_count": 1,
   "metadata": {},
   "outputs": [],
   "source": [
    "%matplotlib inline\n",
    "import matplotlib\n",
    "import matplotlib.pyplot as plt\n",
    "from IPython import display"
   ]
  },
  {
   "cell_type": "markdown",
   "metadata": {},
   "source": [
    "# 看穿你的意圖(pytorch版)"
   ]
  },
  {
   "cell_type": "raw",
   "metadata": {},
   "source": [
    "意圖識別是機器與人透過語言交互的重要關鍵，因為發出命令者不一定會用固定的格式發言，因此機器必須要能夠根據句子內容來判斷發言者的實際意圖。本次數據集包含31種意圖(一個句子僅符合單一意圖)，接下來我們將介紹如何利用卷積神經網路進行自動意圖識別。"
   ]
  },
  {
   "cell_type": "code",
   "execution_count": 2,
   "metadata": {},
   "outputs": [
    {
     "name": "stderr",
     "output_type": "stream",
     "text": [
      "trident 0.7.0\n"
     ]
    },
    {
     "name": "stdout",
     "output_type": "stream",
     "text": [
      "Using Pytorch backend.\n",
      "Image Data Format: channels_first.\n",
      "Image Channel Order: rgb.\n",
      "Pytorch version:1.7.0+cu110.\n",
      "Automatic Mixed Precision Support:True.\n",
      "Using pillow image backend.\n"
     ]
    },
    {
     "name": "stderr",
     "output_type": "stream",
     "text": [
      "Pillow version:7.1.2.\n"
     ]
    }
   ],
   "source": [
    "import codecs\n",
    "import numpy as np\n",
    "import random\n",
    "import pickle\n",
    "import os\n",
    "import math\n",
    "os.environ['TRIDENT_BACKEND'] = 'pytorch'\n",
    "#!pip install tridentx --upgrade\n",
    "import trident as T\n",
    "from trident import *"
   ]
  },
  {
   "cell_type": "raw",
   "metadata": {},
   "source": [
    "首先我們讀取意圖列表，將他轉換為dict"
   ]
  },
  {
   "cell_type": "code",
   "execution_count": 3,
   "metadata": {},
   "outputs": [
    {
     "data": {
      "text/plain": [
       "{0: '打開app應用',\n",
       " 1: '詢問公車路線',\n",
       " 2: '數學計算',\n",
       " 3: '閒聊',\n",
       " 4: '詢問電影場次',\n",
       " 5: '查詢聯絡人',\n",
       " 6: '查詢食譜',\n",
       " 7: '詢問日期',\n",
       " 8: '電子郵件指令',\n",
       " 9: '詢問電視節目',\n",
       " 10: '詢問航班',\n",
       " 11: '詢問健康資訊',\n",
       " 12: '詢問樂透',\n",
       " 13: '詢問地圖',\n",
       " 14: '詢問足球賽事',\n",
       " 15: '簡訊指令',\n",
       " 16: '音樂指令',\n",
       " 17: '詢問新聞',\n",
       " 18: '詢問小說',\n",
       " 19: '詢問詩詞',\n",
       " 20: '詢問廣播節目',\n",
       " 21: '詢問謎語',\n",
       " 22: '鬧鐘時程設定',\n",
       " 23: '詢問股票',\n",
       " 24: '電話指令',\n",
       " 25: '詢問火車班次',\n",
       " 26: '詢問翻譯',\n",
       " 27: '切換電視頻道',\n",
       " 28: '影片播放指令',\n",
       " 29: '詢問天氣',\n",
       " 30: '開啟網站'}"
      ]
     },
     "execution_count": 3,
     "metadata": {},
     "output_type": "execute_result"
    }
   ],
   "source": [
    "intent_data=codecs.open('Data/intent_list.txt',mode='r',encoding='utf-8-sig').readlines()\n",
    "intent_dict={}\n",
    "for i in range(len(intent_data)):\n",
    "    intent_dict[i]=intent_data[i].strip() \n",
    "intent_dict"
   ]
  },
  {
   "cell_type": "raw",
   "metadata": {},
   "source": [
    "首先我們讀取一下訓練集數據，最長句子長度為52"
   ]
  },
  {
   "cell_type": "code",
   "execution_count": 4,
   "metadata": {},
   "outputs": [
    {
     "name": "stdout",
     "output_type": "stream",
     "text": [
      "最大長度為:52\n",
      "2300\n",
      "['打開博客來\\t0\\r\\n', 'opera瀏覽器\\t0\\r\\n', '開啟美圖秀秀\\t0\\r\\n', '開啟zoom\\t0\\r\\n', '幫我找功能選單\\t0\\r\\n', '找一下憤怒鳥\\t0\\r\\n', '現在打開相機\\t0\\r\\n', '我把相機打開\\t0\\r\\n', '你再line我\\t0\\r\\n', '打開edge瀏覽器吧\\t0\\r\\n']\n"
     ]
    }
   ],
   "source": [
    "train_data=codecs.open('Data/TrainData.txt',mode='r',encoding='utf-8-sig').readlines()\n",
    "maxlen=builtins.max([len(s) for s in train_data])\n",
    "print(\"最大長度為:{0}\".format(maxlen))\n",
    "print(len(train_data))\n",
    "print(train_data[:10])"
   ]
  },
  {
   "cell_type": "raw",
   "metadata": {},
   "source": [
    "首先我們讀取一下訓練集數據，最長句子長度為69，為了避免發生句子過長無法全部納入的問題，因此我們將句子最大長度設定為128"
   ]
  },
  {
   "cell_type": "code",
   "execution_count": 5,
   "metadata": {},
   "outputs": [
    {
     "name": "stdout",
     "output_type": "stream",
     "text": [
      "最大長度為:69\n",
      "1437\n",
      "['打開我的瀏覽器\\t0\\r\\n', '打開safari瀏覽器\\t0\\r\\n', '打開kk播放器\\t0\\r\\n', '啓動瀏覽器\\t0\\r\\n', '他開bing\\t0\\r\\n', '幫我搜索狼人殺\\t0\\r\\n', '打開急速飛車\\t0\\r\\n', '公共汽車查詢\\t0\\r\\n', '打開新聞\\t0\\r\\n', '圖庫\\t0\\r\\n']\n"
     ]
    }
   ],
   "source": [
    "test_data=codecs.open('Data/TestData.txt',mode='r',encoding='utf-8-sig').readlines()\n",
    "maxlen=builtins.max([len(s) for s in test_data])\n",
    "print(\"最大長度為:{0}\".format(maxlen))\n",
    "print(len(test_data))\n",
    "print(test_data[:10])"
   ]
  },
  {
   "cell_type": "raw",
   "metadata": {},
   "source": [
    "這次我們也還是一樣使用預訓練好的字向量，每個字轉換為對應長度為256的向量。"
   ]
  },
  {
   "cell_type": "code",
   "execution_count": 6,
   "metadata": {},
   "outputs": [
    {
     "name": "stdout",
     "output_type": "stream",
     "text": [
      "torch.Size([21592, 256])\n"
     ]
    }
   ],
   "source": [
    "chars={}\n",
    "with open('Data/hanzi2vec256.pkl','rb') as fp:\n",
    "    chars = pickle.load(fp)\n",
    "    \n",
    "keys=list(sorted(list(chars.keys())))\n",
    "embed=np.zeros((len(keys),256))\n",
    "char2index={}\n",
    "index2char={}\n",
    "\n",
    "for i in range(len(keys)):\n",
    "    embed[i]=chars[keys[i]]\n",
    "    char2index[keys[i]]=i\n",
    "    index2char[i]=keys[i]\n",
    "\n",
    "\n",
    "\n",
    "    \n",
    "embed=to_tensor(embed).to(get_device())\n",
    "print(embed.shape)"
   ]
  },
  {
   "cell_type": "raw",
   "metadata": {},
   "source": [
    "接下來設計get_next_minibatch來讀取每個minibatch數據。每個句子長度128，不足部分以零填滿，若是出現未知字，則填入隨機亂數。為了提升模型的有效性，因此我們設計了文字的數據增強，包括隨機對調字的順序以及隨機插入贅字"
   ]
  },
  {
   "cell_type": "code",
   "execution_count": 7,
   "metadata": {},
   "outputs": [],
   "source": [
    "random.shuffle(train_data) #把訓練數據集順序打亂\n",
    "random.shuffle(test_data) #把訓練數據集順序打亂\n",
    "idx0=0\n",
    "idx1=0\n",
    "def data_augumentation(txt):\n",
    "    txt=list(txt)\n",
    "    #隨機對調字的順序\n",
    "    if random.randint(0,10)<=3 and len(txt)>6:\n",
    "        pos= random.randint(1,len(txt)-2)\n",
    "        w1=txt[pos]\n",
    "        w2=txt[pos+1]\n",
    "        txt[pos]=w2\n",
    "        txt[pos+1]=w1\n",
    "    #隨機插入虛字    \n",
    "    if random.randint(0,100)%7<=3 and len(txt)>=6:\n",
    "        wordlist=['的','了','若','可','然','也','或','，','。',' ','  ']\n",
    "        w1=random.choice(wordlist)\n",
    "        txt.insert(random.randint(1,len(txt)-2), w1)\n",
    "    #隨機插入標點\n",
    "    if random.randint(0,100)%5<2:\n",
    "        wordlist=['，','。','？','！',' ','  ']\n",
    "        w1=random.choice(wordlist)\n",
    "        txt.append(w1)\n",
    "    return ''.join(txt)\n",
    "\n",
    "def get_next_minibatch(minibatch_size=16,is_train=True):\n",
    "    global idx0,idx1\n",
    "    \n",
    "    features = []\n",
    "    labels = []\n",
    "    groundtruths = []\n",
    "    while len(features) < len(train_data if is_train else test_data):\n",
    "        try:\n",
    "            items=[]\n",
    "            if is_train:\n",
    "                items=train_data[idx0].strip().split('\\t')\n",
    "            else:\n",
    "                items=test_data[idx1].strip().split('\\t')\n",
    "            txt=items[0]\n",
    "            new_txt=txt\n",
    "            if is_train:\n",
    "                new_txt=data_augumentation(txt)\n",
    "            lab=int(items[1])\n",
    "            feature=np.zeros((256,128)) #預設都為零\n",
    "\n",
    "            for i in range(128):\n",
    "                if i< len(new_txt):\n",
    "                    feature[:,i]=chars[new_txt[i].lower()] if new_txt[i].lower() in chars else np.random.standard_normal(256)\n",
    "                    #替換為字向量，若是沒有這個字，填隨機亂數，剩餘保持為0\n",
    "            features.append(feature)\n",
    "            labels.append(lab)\n",
    "            groundtruths.append(list(txt))\n",
    "            if is_train:\n",
    "                idx0 += 1\n",
    "                if idx0 >= len(train_data):\n",
    "                    idx0 = 0\n",
    "                    random.shuffle(train_data)\n",
    "            else:\n",
    "                idx1 += 1\n",
    "                if idx1 >= len(test_data):\n",
    "                    idx1 = 0\n",
    "                    random.shuffle(test_data)\n",
    "        except Exception as e:\n",
    "            print(e)\n",
    "            \n",
    "    return np.asarray(features).astype(np.float32), np.asarray(labels).astype(np.int64), groundtruths\n",
    "\n",
    "\n",
    "\n"
   ]
  },
  {
   "cell_type": "code",
   "execution_count": 8,
   "metadata": {
    "scrolled": true
   },
   "outputs": [
    {
     "name": "stdout",
     "output_type": "stream",
     "text": [
      "(8, 256, 128)\n",
      "2300\n",
      "data_provider( ) -> features: Tensor[(None, 256, 128)], labels: Tensor[(None,)] \n"
     ]
    }
   ],
   "source": [
    "features, labels, groundtruths = get_next_minibatch()\n",
    "testfeatures, testlabels, testgroundtruths = get_next_minibatch(False)\n",
    "\n",
    "\n",
    "data_provider=DataProvider(\n",
    "    traindata=Iterator(data=NumpyDataset(data=features,symbol=\"features\"), \n",
    "                       label=LabelDataset(labels=labels,symbol=\"labels\")),\n",
    "    testdata=Iterator(data=NumpyDataset(data=testfeatures,symbol=\"features\"), \n",
    "                      label=LabelDataset(labels=testlabels,symbol=\"labels\")))\n",
    "\n",
    "data,label=data_provider.next()\n",
    "print(data.shape)\n",
    "print(len(data_provider))\n",
    "print(data_provider.signature)"
   ]
  },
  {
   "cell_type": "raw",
   "metadata": {},
   "source": [
    "引用pytorch所需要的包"
   ]
  },
  {
   "cell_type": "raw",
   "metadata": {},
   "source": [
    "在這邊是使用標準的TextCNN，為了有效將序列特徵尺寸縮小，因此需要將strides設為2(比較不建議使用一維池化，容易造成信息缺失)。所以TextCNN將3,5,7找出來的特徵concate在一起後，先透過長度為1的一維向量降維，在來則是扁平化後連接全連階層。"
   ]
  },
  {
   "cell_type": "markdown",
   "metadata": {},
   "source": [
    "![md_images](../Images/textcnn.jpg)"
   ]
  },
  {
   "cell_type": "code",
   "execution_count": 9,
   "metadata": {},
   "outputs": [],
   "source": [
    "\n",
    "\n",
    "textcnn=Sequential(\n",
    "        Conv1d_Block(kernel_size=3,num_filters=512,strides=1,auto_pad=True,activation='leaky_relu',normalization='batch',dilation=1,dropout_rate=0.1),\n",
    "                \n",
    "        ConcateBlock(\n",
    "            Sequential(\n",
    "                Conv1d_Block(kernel_size=3,num_filters=512,strides=1,auto_pad=True,activation='leaky_relu',normalization='batch',dilation=1,dropout_rate=0.1),\n",
    "                Conv1d_Block(kernel_size=3,num_filters=256,strides=1,auto_pad=True,activation='leaky_relu',normalization='batch')\n",
    "            ),\n",
    "            Sequential(\n",
    "                Conv1d_Block(kernel_size=5,num_filters=512,strides=1,auto_pad=True,activation='leaky_relu',normalization='batch',dilation=1,dropout_rate=0.1),\n",
    "                Conv1d_Block(kernel_size=3,num_filters=256,strides=1,auto_pad=True,activation='leaky_relu',normalization='batch')\n",
    "            ),\n",
    "            Sequential(\n",
    "                Conv1d_Block(kernel_size=7,num_filters=512,strides=1,auto_pad=True,activation='leaky_relu',normalization='batch',dilation=1,dropout_rate=0.1),\n",
    "                Conv1d_Block(kernel_size=3,num_filters=256,strides=1,auto_pad=True,activation='leaky_relu',normalization='batch')\n",
    "            ),\n",
    "            Sequential(\n",
    "                Conv1d_Block(kernel_size=3,num_filters=512,strides=1,auto_pad=True,activation='leaky_relu',normalization='batch',dilation=3,dropout_rate=0.1),\n",
    "                Conv1d_Block(kernel_size=3,num_filters=256,strides=1,auto_pad=True,activation='leaky_relu',normalization='batch')\n",
    "            ),\n",
    "            Sequential(\n",
    "                Conv1d_Block(kernel_size=3,num_filters=512,strides=1,auto_pad=True,activation='leaky_relu',normalization='batch',dilation=6,dropout_rate=0.1),\n",
    "                Conv1d_Block(kernel_size=3,num_filters=256,strides=1,auto_pad=True,activation='leaky_relu',normalization='batch')\n",
    "            )\n",
    "        ),\n",
    "        Conv1d_Block(kernel_size=3,num_filters=256,strides=2,auto_pad=True,activation='leaky_relu',normalization='batch'),\n",
    "        Conv1d_Block(kernel_size=3,num_filters=64,strides=2,auto_pad=True,activation='leaky_relu',normalization=None),\n",
    "        Flatten(),\n",
    "        Dense(len(intent_data)),\n",
    "        SoftMax()\n",
    "    )\n",
    "\n"
   ]
  },
  {
   "cell_type": "raw",
   "metadata": {},
   "source": [
    "定義每次執行的流程，每100 minibatch則列印一下測試數據集的實際與預測答案"
   ]
  },
  {
   "cell_type": "code",
   "execution_count": 10,
   "metadata": {},
   "outputs": [
    {
     "name": "stdout",
     "output_type": "stream",
     "text": [
      "cross entropy( output, target) -> cross entropy \n",
      "accuracy( output, target) -> accuracy \n",
      "Automatic Mixed Precision:Turn On.\n",
      "--------------------------------------------------------------------------------------------------------------------------------\n",
      "                   Layer (type)                          Output Shape               Weight           Bias    Param #            FLOPS #         \n",
      "==============================================================================\n",
      "0.conv  Conv1d                                    [-1, 512, 128]           [512, 256, 3]               393,216 100,663,168.0            \n",
      "0.norm  BatchNorm                                 [-1, 512, 128]           [512]               [512]   1,024   196,480.0                \n",
      "0  Conv1d_Block                                   [-1, 512, 128]                                       0       0.0                      \n",
      "1.branch1.0.conv  Conv1d                          [-1, 512, 128]           [512, 512, 3]               786,432 201,326,464.0            \n",
      "1.branch1.0.norm  BatchNorm                       [-1, 512, 128]           [512]               [512]   1,024   196,480.0                \n",
      "1.branch1.0  Conv1d_Block                         [-1, 512, 128]                                       0       0.0                      \n",
      "1.branch1.1.conv  Conv1d                          [-1, 256, 128]           [256, 512, 3]               393,216 100,663,168.0            \n",
      "1.branch1.1.norm  BatchNorm                       [-1, 256, 128]           [256]               [256]   512     98,176.0                 \n",
      "1.branch1.1  Conv1d_Block                         [-1, 256, 128]                                       0       0.0                      \n",
      "1.branch2.0.conv  Conv1d                          [-1, 512, 128]           [512, 512, 5]               1,310,720335,544,192.0            \n",
      "1.branch2.0.norm  BatchNorm                       [-1, 512, 128]           [512]               [512]   1,024   196,480.0                \n",
      "1.branch2.0  Conv1d_Block                         [-1, 512, 128]                                       0       0.0                      \n",
      "1.branch2.1.conv  Conv1d                          [-1, 256, 128]           [256, 512, 3]               393,216 100,663,168.0            \n",
      "1.branch2.1.norm  BatchNorm                       [-1, 256, 128]           [256]               [256]   512     98,176.0                 \n",
      "1.branch2.1  Conv1d_Block                         [-1, 256, 128]                                       0       0.0                      \n",
      "1.branch3.0.conv  Conv1d                          [-1, 512, 128]           [512, 512, 7]               1,835,008469,761,920.0            \n",
      "1.branch3.0.norm  BatchNorm                       [-1, 512, 128]           [512]               [512]   1,024   196,480.0                \n",
      "1.branch3.0  Conv1d_Block                         [-1, 512, 128]                                       0       0.0                      \n",
      "1.branch3.1.conv  Conv1d                          [-1, 256, 128]           [256, 512, 3]               393,216 100,663,168.0            \n",
      "1.branch3.1.norm  BatchNorm                       [-1, 256, 128]           [256]               [256]   512     98,176.0                 \n",
      "1.branch3.1  Conv1d_Block                         [-1, 256, 128]                                       0       0.0                      \n",
      "1.branch4.0.conv  Conv1d                          [-1, 512, 128]           [512, 512, 3]               786,432 201,326,464.0            \n",
      "1.branch4.0.norm  BatchNorm                       [-1, 512, 128]           [512]               [512]   1,024   196,480.0                \n",
      "1.branch4.0  Conv1d_Block                         [-1, 512, 128]                                       0       0.0                      \n",
      "1.branch4.1.conv  Conv1d                          [-1, 256, 128]           [256, 512, 3]               393,216 100,663,168.0            \n",
      "1.branch4.1.norm  BatchNorm                       [-1, 256, 128]           [256]               [256]   512     98,176.0                 \n",
      "1.branch4.1  Conv1d_Block                         [-1, 256, 128]                                       0       0.0                      \n",
      "1.branch5.0.conv  Conv1d                          [-1, 512, 128]           [512, 512, 3]               786,432 201,326,464.0            \n",
      "1.branch5.0.norm  BatchNorm                       [-1, 512, 128]           [512]               [512]   1,024   196,480.0                \n",
      "1.branch5.0  Conv1d_Block                         [-1, 512, 128]                                       0       0.0                      \n",
      "1.branch5.1.conv  Conv1d                          [-1, 256, 128]           [256, 512, 3]               393,216 100,663,168.0            \n",
      "1.branch5.1.norm  BatchNorm                       [-1, 256, 128]           [256]               [256]   512     98,176.0                 \n",
      "1.branch5.1  Conv1d_Block                         [-1, 256, 128]                                       0       0.0                      \n",
      "1  ConcateBlock                                   [-1, 1280, 128]                                      0       0.0                      \n",
      "2.conv  Conv1d                                    [-1, 256, 64]            [256, 1280, 3]              983,040 125,829,056.0            \n",
      "2.norm  BatchNorm                                 [-1, 256, 64]            [256]               [256]   512     49,088.0                 \n",
      "2  Conv1d_Block                                   [-1, 256, 64]                                        0       0.0                      \n",
      "3.conv  Conv1d                                    [-1, 64, 32]             [64, 256, 3]                49,152  3,145,696.0              \n",
      "3  Conv1d_Block                                   [-1, 64, 32]                                         0       0.0                      \n",
      "4  Flatten                                        [-1, 2048]                                           0       0.0                      \n",
      "5  Dense                                          [-1, 31]                 [31, 2048]          [31]    63,519  127,006.0                \n",
      "6  SoftMax                                        [-1, 31]                                             0       0.0                      \n",
      "================================================================\n",
      "Total params: 8,969,247\n",
      "Trainable params: 8,969,247\n",
      "Non-trainable params: 0\n",
      "Total MACC: 1,071,757,312\n",
      "Total FLOPs: 2.14409 GFLOPs\n",
      "----------------------------------------------------------------\n",
      "Input size (MB): 0.12\n",
      "Forward/backward pass size (MB): 14.42\n",
      "Params size (MB): 34.21\n",
      "Estimated Total Size (MB): 48.76\n",
      "----------------------------------------------------------------\n"
     ]
    },
    {
     "data": {
      "text/plain": [
       "Model(\n",
       "  (inputs): TensorSpec(dtype=torch.float32, shape=(None, 256, 128), ndim=3, name=input)\n",
       "  (_outputs): TensorSpec(shape=(None, 31), ndim=2, name=output)\n",
       "  (_targets): TensorSpec(shape=(None, 31), ndim=2, name=target)\n",
       "  (_losses): <trident.optims.pytorch_losses.CrossEntropyLoss object at 0x0000016B01ED1E10>\n",
       "  (_metrics): functools.partial(<function accuracy at 0x0000016AB3292D90>)\n",
       "  (loss_weights): 1.0\n",
       "  (_regs): functools.partial(<function l2_reg at 0x0000016AB214C8C8>)\n",
       "  (_constraints): functools.partial(<function min_max_norm at 0x0000016AB3292AE8>)\n",
       ")"
      ]
     },
     "execution_count": 10,
     "metadata": {},
     "output_type": "execute_result"
    }
   ],
   "source": [
    "\n",
    "\n",
    "\n",
    "model = Model(inputs=data, output=textcnn) \\\n",
    "    .with_optimizer(optimizer='Ranger', lr=1e-3, betas=(0.9, 0.999)) \\\n",
    "    .with_loss(CrossEntropyLoss, name='cross entropy') \\\n",
    "    .with_metric(accuracy, name='accuracy') \\\n",
    "    .with_regularizer('l2') \\\n",
    "    .with_constraint('min_max_norm') \\\n",
    "    .with_learning_rate_scheduler(reduce_lr_on_plateau, monitor='accuracy', mode='max', factor=0.75, patience=5, cooldown=1, threshold=1e-4, warmup=0) \\\n",
    "    .with_model_save_path('Models/textcnn.pth') \\\n",
    "    .with_automatic_mixed_precision_training()\n",
    "\n",
    "model.summary()\n"
   ]
  },
  {
   "cell_type": "code",
   "execution_count": 11,
   "metadata": {},
   "outputs": [
    {
     "name": "stdout",
     "output_type": "stream",
     "text": [
      "data_provider( ) -> features: Tensor[(None, 256, 128)], labels: Tensor[(None,)] \n"
     ]
    }
   ],
   "source": [
    "\n",
    "print(data_provider.signature)"
   ]
  },
  {
   "cell_type": "code",
   "execution_count": 12,
   "metadata": {},
   "outputs": [
    {
     "name": "stdout",
     "output_type": "stream",
     "text": [
      "( input: Tensor[(None, 256, 128)]) -> output: Tensor[(None, 31)] \n"
     ]
    }
   ],
   "source": [
    "print(model.signature)"
   ]
  },
  {
   "cell_type": "code",
   "execution_count": 12,
   "metadata": {},
   "outputs": [
    {
     "data": {
      "image/png": "[encoded data removed]",
      "text/plain": [
       "<Figure size 1296x576 with 2 Axes>"
      ]
     },
     "metadata": {},
     "output_type": "display_data"
    },
    {
     "name": "stdout",
     "output_type": "stream",
     "text": [
      "model 0      Step: 4s319ms  | Loss: 0.08819 | accuracy: 98.171%  | learning rate: 1.000e-03 | epoch: 95  ( 100/144 )\n",
      "model 0      Step: 2s418ms  | Loss: 0.08813 | accuracy: 98.173%  | learning rate: 1.000e-03 | epoch: 95  ( 110/144 )\n",
      "model 0      Step: 3s277ms  | Loss: 0.08806 | accuracy: 98.174%  | learning rate: 1.000e-03 | epoch: 95  ( 120/144 )\n",
      "model 0           first_layer gradients: 1.973e-02| last_layer gradients: 1.037e-02\n",
      "model 0      Step: 2s486ms  | Loss: 0.08800 | accuracy: 98.175%  | learning rate: 1.000e-03 | epoch: 95  ( 130/144 )\n",
      "model 0      Step: 2s486ms  | Loss: 0.08794 | accuracy: 98.177%  | learning rate: 1.000e-03 | epoch: 95  ( 140/144 )\n",
      "model 0: out-of-sample evaluation:  accuracy: 93.750% \n",
      "{ cross entropy: 1.017551312543219e-05, l2_reg_Loss: 0.001927618752233684, total_losses: 0.08763361722230911 }\n",
      "model 0      Step: 1s247ms  | Loss: 0.08763 | accuracy: 98.183%  | learning rate: 1.000e-03 | epoch: 96  ( 0/144 )\n",
      "model 0      Step: 2s451ms  | Loss: 0.08782 | accuracy: 98.179%  | learning rate: 1.000e-03 | epoch: 96  ( 10/144 )\n",
      "model 0      Step: 2s481ms  | Loss: 0.08776 | accuracy: 98.181%  | learning rate: 1.000e-03 | epoch: 96  ( 20/144 )\n",
      "model 0           first_layer gradients: 1.743e-02| last_layer gradients: 4.236e-03\n",
      "model 0      Step: 3s370ms  | Loss: 0.08770 | accuracy: 98.182%  | learning rate: 1.000e-03 | epoch: 96  ( 30/144 )\n",
      "model 0      Step: 2s633ms  | Loss: 0.08765 | accuracy: 98.183%  | learning rate: 1.000e-03 | epoch: 96  ( 40/144 )\n",
      "model 0      Step: 2s401ms  | Loss: 0.08759 | accuracy: 98.184%  | learning rate: 1.000e-03 | epoch: 96  ( 50/144 )\n",
      "model 0      Step: 2s438ms  | Loss: 0.08753 | accuracy: 98.186%  | learning rate: 1.000e-03 | epoch: 96  ( 60/144 )\n",
      "model 0      Step: 2s433ms  | Loss: 0.08747 | accuracy: 98.187%  | learning rate: 1.000e-03 | epoch: 96  ( 70/144 )\n",
      "model 0           first_layer gradients: 1.721e-02| last_layer gradients: 1.779e-03\n",
      "model 0      Step: 3s584ms  | Loss: 0.08741 | accuracy: 98.188%  | learning rate: 1.000e-03 | epoch: 96  ( 80/144 )\n",
      "model 0      Step: 3s401ms  | Loss: 0.08736 | accuracy: 98.189%  | learning rate: 1.000e-03 | epoch: 96  ( 90/144 )\n"
     ]
    },
    {
     "data": {
      "image/png": "[encoded data removed]",
      "text/plain": [
       "<Figure size 1296x576 with 2 Axes>"
      ]
     },
     "metadata": {},
     "output_type": "display_data"
    },
    {
     "name": "stdout",
     "output_type": "stream",
     "text": [
      "model 0      Step: 5s207ms  | Loss: 0.08729 | accuracy: 98.191%  | learning rate: 1.000e-03 | epoch: 96  ( 100/144 )\n",
      "model 0      Step: 3s248ms  | Loss: 0.08723 | accuracy: 98.192%  | learning rate: 1.000e-03 | epoch: 96  ( 110/144 )\n",
      "model 0      Step: 3s347ms  | Loss: 0.08717 | accuracy: 98.193%  | learning rate: 1.000e-03 | epoch: 96  ( 120/144 )\n",
      "model 0           first_layer gradients: 2.014e-02| last_layer gradients: 6.770e-03\n",
      "model 0      Step: 4s267ms  | Loss: 0.08711 | accuracy: 98.194%  | learning rate: 1.000e-03 | epoch: 96  ( 130/144 )\n",
      "model 0      Step: 3s448ms  | Loss: 0.08705 | accuracy: 98.196%  | learning rate: 1.000e-03 | epoch: 96  ( 140/144 )\n",
      "model 0: out-of-sample evaluation:  accuracy: 93.750% \n",
      "{ cross entropy: 1.99491614694125e-06, l2_reg_Loss: 0.0019125225953757763, total_losses: 0.08675004541873932 }\n",
      "model 0      Step: 1s642ms  | Loss: 0.08675 | accuracy: 98.202%  | learning rate: 1.000e-03 | epoch: 97  ( 0/144 )\n",
      "model 0      Step: 3s312ms  | Loss: 0.08693 | accuracy: 98.198%  | learning rate: 1.000e-03 | epoch: 97  ( 10/144 )\n",
      "model 0      Step: 3s296ms  | Loss: 0.08688 | accuracy: 98.199%  | learning rate: 1.000e-03 | epoch: 97  ( 20/144 )\n",
      "model 0      Step: 3s313ms  | Loss: 0.08682 | accuracy: 98.201%  | learning rate: 1.000e-03 | epoch: 97  ( 30/144 )\n",
      "model 0           first_layer gradients: 1.761e-02| last_layer gradients: 4.598e-03\n",
      "model 0      Step: 4s409ms  | Loss: 0.08676 | accuracy: 98.202%  | learning rate: 1.000e-03 | epoch: 97  ( 40/144 )\n",
      "model 0      Step: 3s239ms  | Loss: 0.08671 | accuracy: 98.203%  | learning rate: 1.000e-03 | epoch: 97  ( 50/144 )\n",
      "model 0      Step: 3s348ms  | Loss: 0.08665 | accuracy: 98.204%  | learning rate: 1.000e-03 | epoch: 97  ( 60/144 )\n",
      "model 0      Step: 3s352ms  | Loss: 0.08659 | accuracy: 98.206%  | learning rate: 1.000e-03 | epoch: 97  ( 70/144 )\n",
      "model 0      Step: 3s267ms  | Loss: 0.08653 | accuracy: 98.207%  | learning rate: 1.000e-03 | epoch: 97  ( 80/144 )\n",
      "model 0           first_layer gradients: 4.658e-02| last_layer gradients: 2.213e-02\n",
      "model 0      Step: 4s416ms  | Loss: 0.08648 | accuracy: 98.208%  | learning rate: 1.000e-03 | epoch: 97  ( 90/144 )\n"
     ]
    },
    {
     "data": {
      "image/png": "[encoded data removed]",
      "text/plain": [
       "<Figure size 1296x576 with 2 Axes>"
      ]
     },
     "metadata": {},
     "output_type": "display_data"
    },
    {
     "name": "stdout",
     "output_type": "stream",
     "text": [
      "model 0      Step: 5s67ms   | Loss: 0.08642 | accuracy: 98.209%  | learning rate: 1.000e-03 | epoch: 97  ( 100/144 )\n",
      "model 0      Step: 3s305ms  | Loss: 0.08636 | accuracy: 98.210%  | learning rate: 1.000e-03 | epoch: 97  ( 110/144 )\n",
      "model 0      Step: 3s244ms  | Loss: 0.08630 | accuracy: 98.212%  | learning rate: 1.000e-03 | epoch: 97  ( 120/144 )\n",
      "model 0      Step: 3s242ms  | Loss: 0.08624 | accuracy: 98.213%  | learning rate: 1.000e-03 | epoch: 97  ( 130/144 )\n",
      "model 0           first_layer gradients: 3.492e-02| last_layer gradients: 6.762e-03\n",
      "model 0      Step: 4s293ms  | Loss: 0.08618 | accuracy: 98.214%  | learning rate: 1.000e-03 | epoch: 97  ( 140/144 )\n",
      "model 0: out-of-sample evaluation:  accuracy: 93.750% \n",
      "{ cross entropy: 9.741982012201333e-07, l2_reg_Loss: 0.0018965720664709806, total_losses: 0.08588435500860214 }\n",
      "model 0      Step: 1s593ms  | Loss: 0.08588 | accuracy: 98.221%  | learning rate: 1.000e-03 | epoch: 98  ( 0/144 )\n",
      "model 0      Step: 3s278ms  | Loss: 0.08606 | accuracy: 98.217%  | learning rate: 1.000e-03 | epoch: 98  ( 10/144 )\n",
      "model 0      Step: 3s206ms  | Loss: 0.08601 | accuracy: 98.218%  | learning rate: 1.000e-03 | epoch: 98  ( 20/144 )\n",
      "model 0      Step: 3s253ms  | Loss: 0.08595 | accuracy: 98.219%  | learning rate: 1.000e-03 | epoch: 98  ( 30/144 )\n",
      "model 0           first_layer gradients: 3.424e-02| last_layer gradients: 3.512e-03\n",
      "model 0      Step: 4s261ms  | Loss: 0.08590 | accuracy: 98.220%  | learning rate: 1.000e-03 | epoch: 98  ( 40/144 )\n",
      "model 0      Step: 3s274ms  | Loss: 0.08584 | accuracy: 98.222%  | learning rate: 1.000e-03 | epoch: 98  ( 50/144 )\n",
      "model 0      Step: 3s323ms  | Loss: 0.08578 | accuracy: 98.223%  | learning rate: 1.000e-03 | epoch: 98  ( 60/144 )\n",
      "model 0      Step: 3s306ms  | Loss: 0.08573 | accuracy: 98.224%  | learning rate: 1.000e-03 | epoch: 98  ( 70/144 )\n",
      "model 0      Step: 3s532ms  | Loss: 0.08567 | accuracy: 98.225%  | learning rate: 1.000e-03 | epoch: 98  ( 80/144 )\n",
      "model 0           first_layer gradients: 3.583e-02| last_layer gradients: 9.653e-03\n",
      "model 0      Step: 4s246ms  | Loss: 0.08562 | accuracy: 98.226%  | learning rate: 1.000e-03 | epoch: 98  ( 90/144 )\n"
     ]
    },
    {
     "data": {
      "image/png": "[encoded data removed]",
      "text/plain": [
       "<Figure size 1296x576 with 2 Axes>"
      ]
     },
     "metadata": {},
     "output_type": "display_data"
    },
    {
     "name": "stdout",
     "output_type": "stream",
     "text": [
      "model 0      Step: 5s189ms  | Loss: 0.08556 | accuracy: 98.228%  | learning rate: 1.000e-03 | epoch: 98  ( 100/144 )\n",
      "model 0      Step: 3s353ms  | Loss: 0.08550 | accuracy: 98.229%  | learning rate: 1.000e-03 | epoch: 98  ( 110/144 )\n",
      "model 0      Step: 3s621ms  | Loss: 0.08544 | accuracy: 98.230%  | learning rate: 1.000e-03 | epoch: 98  ( 120/144 )\n",
      "model 0      Step: 3s354ms  | Loss: 0.08538 | accuracy: 98.231%  | learning rate: 1.000e-03 | epoch: 98  ( 130/144 )\n",
      "model 0           first_layer gradients: 3.496e-02| last_layer gradients: 5.070e-03\n",
      "model 0      Step: 4s238ms  | Loss: 0.08532 | accuracy: 98.233%  | learning rate: 1.000e-03 | epoch: 98  ( 140/144 )\n",
      "model 0: out-of-sample evaluation:  accuracy: 100.000%\n",
      "{ cross entropy: 7.972595312821795e-07, l2_reg_Loss: 0.0018797360826283693, total_losses: 0.08503597974777222 }\n",
      "model 0      Step: 1s673ms  | Loss: 0.08504 | accuracy: 98.239%  | learning rate: 1.000e-03 | epoch: 99  ( 0/144 )\n",
      "model 0      Step: 3s346ms  | Loss: 0.08521 | accuracy: 98.235%  | learning rate: 1.000e-03 | epoch: 99  ( 10/144 )\n",
      "model 0      Step: 3s327ms  | Loss: 0.08516 | accuracy: 98.236%  | learning rate: 1.000e-03 | epoch: 99  ( 20/144 )\n",
      "model 0      Step: 3s434ms  | Loss: 0.08510 | accuracy: 98.237%  | learning rate: 1.000e-03 | epoch: 99  ( 30/144 )\n",
      "model 0      Step: 3s566ms  | Loss: 0.08505 | accuracy: 98.238%  | learning rate: 1.000e-03 | epoch: 99  ( 40/144 )\n",
      "model 0           first_layer gradients: 3.433e-02| last_layer gradients: 4.077e-03\n",
      "model 0      Step: 4s237ms  | Loss: 0.08499 | accuracy: 98.240%  | learning rate: 1.000e-03 | epoch: 99  ( 50/144 )\n",
      "model 0      Step: 3s421ms  | Loss: 0.08494 | accuracy: 98.241%  | learning rate: 1.000e-03 | epoch: 99  ( 60/144 )\n",
      "model 0      Step: 3s362ms  | Loss: 0.08488 | accuracy: 98.242%  | learning rate: 1.000e-03 | epoch: 99  ( 70/144 )\n",
      "model 0      Step: 3s515ms  | Loss: 0.08483 | accuracy: 98.243%  | learning rate: 1.000e-03 | epoch: 99  ( 80/144 )\n",
      "model 0      Step: 3s384ms  | Loss: 0.08477 | accuracy: 98.244%  | learning rate: 1.000e-03 | epoch: 99  ( 90/144 )\n",
      "model 0           first_layer gradients: 3.423e-02| last_layer gradients: 3.804e-03\n"
     ]
    },
    {
     "data": {
      "image/png": "[encoded data removed]",
      "text/plain": [
       "<Figure size 1296x576 with 2 Axes>"
      ]
     },
     "metadata": {},
     "output_type": "display_data"
    },
    {
     "name": "stdout",
     "output_type": "stream",
     "text": [
      "model 0      Step: 6s166ms  | Loss: 0.08472 | accuracy: 98.245%  | learning rate: 1.000e-03 | epoch: 99  ( 100/144 )\n",
      "model 0      Step: 3s373ms  | Loss: 0.08466 | accuracy: 98.247%  | learning rate: 1.000e-03 | epoch: 99  ( 110/144 )\n",
      "model 0      Step: 3s481ms  | Loss: 0.08460 | accuracy: 98.248%  | learning rate: 1.000e-03 | epoch: 99  ( 120/144 )\n",
      "model 0      Step: 3s342ms  | Loss: 0.08454 | accuracy: 98.249%  | learning rate: 1.000e-03 | epoch: 99  ( 130/144 )\n",
      "model 0      Step: 3s302ms  | Loss: 0.08449 | accuracy: 98.250%  | learning rate: 1.000e-03 | epoch: 99  ( 140/144 )\n",
      "model 0: out-of-sample evaluation:  accuracy: 100.000%\n"
     ]
    }
   ],
   "source": [
    "\n",
    "plan=TrainingPlan()\\\n",
    "    .add_training_item(model)\\\n",
    "    .with_data_loader(data_provider)\\\n",
    "    .repeat_epochs(100)\\\n",
    "    .within_minibatch_size(16)\\\n",
    "    .print_progress_scheduling(10,unit='batch')\\\n",
    "    .display_loss_metric_curve_scheduling(frequency=100,unit='batch',imshow=True)\\\n",
    "    .print_gradients_scheduling(50)\\\n",
    "    .save_model_scheduling(50,unit='batch')\\\n",
    "    .within_tensorboard()\n",
    "\n",
    "plan.start_now()"
   ]
  },
  {
   "cell_type": "code",
   "execution_count": 56,
   "metadata": {},
   "outputs": [],
   "source": [
    "model.eval()\n",
    "model.save_onnx('Models/text_cnn.onnx')"
   ]
  },
  {
   "cell_type": "markdown",
   "metadata": {},
   "source": [
    "我們已經將模型匯出成為onnx格式，要使用它來做推論的步驟其實非常簡單，首先要匯入onnxruntime的包，然後將模型載入至推論session中。"
   ]
  },
  {
   "cell_type": "code",
   "execution_count": 57,
   "metadata": {},
   "outputs": [
    {
     "name": "stdout",
     "output_type": "stream",
     "text": [
      "None\n"
     ]
    }
   ],
   "source": [
    "import onnx\n",
    "import onnxruntime as ort\n",
    "\n",
    "#載入onnx模型進行檢查，不需要每次都做，只要轉檔後做一次即可\n",
    "predictor = onnx.load('Models/text_cnn.onnx')\n",
    "print(onnx.checker.check_model(predictor))\n"
   ]
  },
  {
   "cell_type": "code",
   "execution_count": 58,
   "metadata": {},
   "outputs": [
    {
     "data": {
      "text/plain": [
       "'input'"
      ]
     },
     "execution_count": 58,
     "metadata": {},
     "output_type": "execute_result"
    }
   ],
   "source": [
    "#載入onnx模型至onnxruntime\n",
    "ort_session = ort.InferenceSession('Models/text_cnn.onnx')\n",
    "#取出輸入張量形狀\n",
    "input_name = ort_session.get_inputs()[0].name\n",
    "input_name"
   ]
  },
  {
   "cell_type": "code",
   "execution_count": 65,
   "metadata": {},
   "outputs": [
    {
     "name": "stdout",
     "output_type": "stream",
     "text": [
      "(1, 256, 128)\n"
     ]
    }
   ],
   "source": [
    "txt='今天台積電股價是多少?'\n",
    "def sentance2tensor(words):\n",
    "    feature=np.zeros((256,128)) #預設都為零\n",
    "    for i in range(128):\n",
    "        if i< len(words):\n",
    "            feature[:,i]=chars[words[i].lower()] if words[i].lower() in chars else np.random.standard_normal(256)\n",
    "    return expand_dims(feature,0).astype(np.float32)\n",
    "\n",
    "\n",
    "print(sentance2tensor(txt).shape)"
   ]
  },
  {
   "cell_type": "code",
   "execution_count": 82,
   "metadata": {},
   "outputs": [
    {
     "data": {
      "text/plain": [
       "{ 0: ('詢問股票', 0.9999994), 1: ('詢問電視節目', 5.855678e-07), 2: ('打開app應用', 3.2424852e-10) }"
      ]
     },
     "execution_count": 82,
     "metadata": {},
     "output_type": "execute_result"
    }
   ],
   "source": [
    "#把剛才流程包成函數\n",
    "def sentence2intent(words):\n",
    "    #透過onnx進行推論\n",
    "    pred_intent= ort_session.run(None, {input_name:sentance2tensor(words)})[0]\n",
    "\n",
    "    #透過argmax找出機率最高前三名的意圖索引位置\n",
    "    idx=argsort(pred_intent,-1)[::-1][0][:3]\n",
    "\n",
    "    #列印出意圖名稱以及機率\n",
    "    result=OrderedDict()\n",
    "    for i in range(3):\n",
    "        result[i]=(intent_dict[idx[i]],pred_intent[0][idx[i]])\n",
    "    return result\n",
    "\n",
    "sentence2intent(txt)"
   ]
  },
  {
   "cell_type": "code",
   "execution_count": 83,
   "metadata": {},
   "outputs": [
    {
     "data": {
      "text/plain": [
       "{ 0: ('開啟網站', 0.86599094), 1: ('打開app應用', 0.13395746), 2: ('切換電視頻道', 4.5926594e-05) }"
      ]
     },
     "execution_count": 83,
     "metadata": {},
     "output_type": "execute_result"
    }
   ],
   "source": [
    "pred_intent= ort_session.run(None, {input_name:sentance2tensor('打開谷歌硬碟')})[0]\n",
    "idx1=argmax(pred_intent,-1)[0]\n",
    "sentence2intent('打開谷歌硬碟')"
   ]
  },
  {
   "cell_type": "markdown",
   "metadata": {},
   "source": [
    "我們可以試著一些不正常的問法，例如錯字，字的順序對調以及簡稱，模型仍然可以正確地回復"
   ]
  },
  {
   "cell_type": "code",
   "execution_count": 89,
   "metadata": {},
   "outputs": [
    {
     "name": "stdout",
     "output_type": "stream",
     "text": [
      "{ 0: ('查詢食譜', 0.9998703), 1: ('詢問翻譯', 0.000101466314), 2: ('切換電視頻道', 1.1400427e-05) }\n",
      "{ 0: ('詢問火車班次', 0.9999969), 1: ('詢問地圖', 2.1576911e-06), 2: ('詢問公車路線', 9.2781755e-07) }\n",
      "{ 0: ('詢問地圖', 0.76722413), 1: ('詢問股票', 0.12598895), 2: ('閒聊', 0.0711749) }\n",
      "{ 0: ('詢問電視節目', 0.52811635), 1: ('閒聊', 0.47155616), 2: ('詢問謎語', 0.00019114868) }\n"
     ]
    }
   ],
   "source": [
    "print(sentence2intent('水煮魚怎魔煮'))\n",
    "print(sentence2intent('晚上到雄高的火車出發時刻'))\n",
    "print(sentence2intent('台車該麼走'))\n",
    "print(sentence2intent('今天台灣確診人數是幾名啊'))"
   ]
  },
  {
   "cell_type": "code",
   "execution_count": 96,
   "metadata": {},
   "outputs": [],
   "source": [
    "np.save('Models/embed.npy',to_numpy(embed),allow_pickle=True)\n",
    "\n",
    "\n",
    "with open(\"Models/charlist.txt\",mode='w',encoding='utf-8-sig') as f:\n",
    "    f.write(''.join(keys))\n"
   ]
  }
 ],
 "metadata": {
  "anaconda-cloud": {},
  "kernelspec": {
   "display_name": "Python 3",
   "language": "python",
   "name": "python3"
  },
  "language_info": {
   "codemirror_mode": {
    "name": "ipython",
    "version": 3
   },
   "file_extension": ".py",
   "mimetype": "text/x-python",
   "name": "python",
   "nbconvert_exporter": "python",
   "pygments_lexer": "ipython3",
   "version": "3.6.5"
  }
 },
 "nbformat": 4,
 "nbformat_minor": 2
}
