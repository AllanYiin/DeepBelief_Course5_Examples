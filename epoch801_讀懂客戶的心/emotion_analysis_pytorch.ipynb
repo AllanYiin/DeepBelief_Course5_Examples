{
 "cells": [
  {
   "cell_type": "code",
   "execution_count": 1,
   "metadata": {
    "pycharm": {
     "name": "#%%\n"
    }
   },
   "outputs": [],
   "source": [
    "%matplotlib inline\n",
    "import matplotlib\n",
    "import matplotlib.pyplot as plt\n",
    "from IPython import display\n"
   ]
  },
  {
   "cell_type": "markdown",
   "metadata": {},
   "source": [
    "# 讀懂客戶的心 (pytorch)"
   ]
  },
  {
   "cell_type": "raw",
   "metadata": {
    "collapsed": true,
    "pycharm": {
     "name": "#%% raw\n"
    }
   },
   "source": [
    "支援python 版本: 3.5以上\n",
    "支援pytorch版本 : 1.2以上"
   ]
  },
  {
   "cell_type": "markdown",
   "metadata": {},
   "source": [
    "![Alt text](../images/readmind.jpg)"
   ]
  },
  {
   "cell_type": "markdown",
   "metadata": {},
   "source": [
    "文字是人類表達心中想法的工具，也因此要讀懂客戶的心的最快方式就是閱讀客戶的評論。在過去我們通常使用以詞為基礎的lstm進行建模，但是分詞的過程以及辭典外詞彙(OOV)經常造成困擾之外，LSTM難以收斂以及不能平行計算也是一個煩人的問題。在這個實作中，我們將帶各位使用一維卷積進行序列對序列分析，覺得卷積神經網路跨界有點遠?別忘記了，相較於西歐的拼音文字，中文的本質其實就是圖片，使用卷積神經網路可以透過空洞卷積來擴大感知域，來達到類似LSTM的上下文記憶，它最大的好處就在於它完全可以平行計算加速。至於效果如何，我們就來看看實作的成效囉。  \n",
    "\n"
   ]
  },
  {
   "cell_type": "code",
   "execution_count": 2,
   "metadata": {
    "pycharm": {
     "name": "#%%\n"
    }
   },
   "outputs": [
    {
     "name": "stderr",
     "output_type": "stream",
     "text": [
      "trident 0.6.0\n"
     ]
    },
    {
     "name": "stdout",
     "output_type": "stream",
     "text": [
      "Using Pytorch backend.\n",
      "Image Data Format: channels_first.\n",
      "Image Channel Order: rgb.\n",
      "Using pillow image backend.\n"
     ]
    },
    {
     "name": "stderr",
     "output_type": "stream",
     "text": [
      "Pillow version:7.1.2.\n"
     ]
    },
    {
     "name": "stdout",
     "output_type": "stream",
     "text": [
      "Pytorch version:1.6.0+cu101.\n",
      "Automatic Mixed Precision Support:True.\n"
     ]
    }
   ],
   "source": [
    "import glob\n",
    "import os\n",
    "import cv2\n",
    "os.environ['TRIDENT_BACKEND'] = 'pytorch'\n",
    "#!pip install tridentx --upgrade\n",
    "import trident as T\n",
    "from trident import *\n",
    "import numpy as np\n",
    "import string\n",
    "import pickle\n",
    "\n"
   ]
  },
  {
   "cell_type": "markdown",
   "metadata": {},
   "source": [
    "在本次實作中，我們的案例是一家速食業者，他透過爬蟲抓取客戶的反饋，我們根據正面、負面、中性對應至**價格、品質、服務、環境與其他**五大面向，進行客戶評論的「逐字標註」，以挖掘客戶的態度，對應代碼如下。"
   ]
  },
  {
   "cell_type": "code",
   "execution_count": 3,
   "metadata": {
    "pycharm": {
     "name": "#%%\n"
    }
   },
   "outputs": [],
   "source": [
    "mapping={\n",
    "\"無\":\"0\",\n",
    "\"價格正面\":\"A\",\n",
    "\"價格中性\":\"B\",\n",
    "\"價格負面\":\"C\",\n",
    "\"品質正面\":\"D\",\n",
    "\"品質中性\":\"E\",\n",
    "\"品質負面\":\"F\",\n",
    "\"服務正面\":\"G\",\n",
    "\"服務中性\":\"H\",\n",
    "\"服務負面\":\"I\",\n",
    "\"環境正面\":\"J\",\n",
    "\"環境中性\":\"K\",\n",
    "\"環境負面\":\"L\",\n",
    "\"其他正面\":\"M\",\n",
    "\"其他中性\":\"N\",\n",
    "\"其他負面\":\"O\"}\n"
   ]
  },
  {
   "cell_type": "markdown",
   "metadata": {},
   "source": [
    "我們首先讀取一下語料"
   ]
  },
  {
   "cell_type": "code",
   "execution_count": 4,
   "metadata": {},
   "outputs": [
    {
     "name": "stdout",
     "output_type": "stream",
     "text": [
      "1\t只要10塊錢。\tAAAAAAA\n",
      "\n",
      "2\t這個價格在火車站來說已經很親民了。\t000000000000MMMM0\n",
      "\n",
      "3\t而且味道也好。\t00DDDDD\n",
      "\n",
      "4\t很清淡。\tDDDD\n",
      "\n",
      "5\t啦啦。\t000\n",
      "\n",
      "6\t以后要經常來吃。\tMMMMMMM0\n",
      "\n",
      "7\t味道不錯，蠻好吃的，😘😘😘😘😘。\tDDDDDDDDDDMMMMMM\n",
      "\n",
      "8\t還可以就是點啥都沒有了，很被動的。\t000000000000OOOO0\n",
      "\n",
      "9\t臘雞，千萬不要吃，快餐還是選擇肯德基和麥當勞，不知道放了多久的東西就拿出來賣，去反映還要跟我說他家就是這樣的，臘雞。\t00000FFFF0000000000000000000000000000000000000000000000000\n",
      "\n",
      "10\t脆皮大雞腿，味道挺好吃的。\t00000000DDDD0\n",
      "\n"
     ]
    }
   ],
   "source": [
    "data=open('corpus_tw.txt',encoding='utf-8-sig').readlines()\n",
    "for text in data[:10]:\n",
    "    print(text)"
   ]
  },
  {
   "cell_type": "markdown",
   "metadata": {},
   "source": [
    "為了評估適合的序列最大長度，我們統計一下，評論的長度分布。"
   ]
  },
  {
   "cell_type": "code",
   "execution_count": 5,
   "metadata": {},
   "outputs": [
    {
     "data": {
      "text/plain": [
       "(array([2.0807e+04, 6.5630e+03, 1.6580e+03, 7.2200e+02, 7.5800e+02,\n",
       "        2.8400e+02, 1.4300e+02, 6.7000e+01, 1.5000e+01, 8.0000e+00]),\n",
       " array([2.0000e+00, 2.6800e+01, 5.1600e+01, 7.6400e+01, 1.0120e+02,\n",
       "        1.2600e+02, 1.5080e+02, 1.7560e+02, 2.0040e+02, 2.2520e+02,\n",
       "        2.5000e+02]),\n",
       " <a list of 10 Patch objects>)"
      ]
     },
     "execution_count": 5,
     "metadata": {},
     "output_type": "execute_result"
    },
    {
     "data": {
      "image/png": "[encoded data removed]",
      "text/plain": [
       "<Figure size 432x288 with 1 Axes>"
      ]
     },
     "metadata": {
      "needs_background": "light"
     },
     "output_type": "display_data"
    }
   ],
   "source": [
    "lengths=np.array([len(text.split('\\t')[1]) for text in data])\n",
    "counts, bins = np.histogram(lengths)\n",
    "plt.hist(bins[:-1], bins, weights=counts)"
   ]
  },
  {
   "cell_type": "markdown",
   "metadata": {},
   "source": [
    "像是評論這種網路語料通常清洗起來比較麻煩，而且常常充滿各種無效字元，所以建議要先經過處理，例如中文最常見的就是全形半形轉換，建議全部轉為半形。"
   ]
  },
  {
   "cell_type": "code",
   "execution_count": 6,
   "metadata": {},
   "outputs": [],
   "source": [
    "#全形轉半形\n",
    "def str_full_to_half(in_str):\n",
    "    out_str = []\n",
    "    for char in in_str:\n",
    "        inside_code = ord(char)\n",
    "        if inside_code == 0x3000 or inside_code == 12288 or char == string.whitespace:  # 全形空格直接轉換\n",
    "            out_str.append(' ')\n",
    "        elif inside_code >= 65281 and inside_code <= 65374:\n",
    "            inside_code -= 0xfee0\n",
    "            out_str.append(chr(inside_code))\n",
    "        else:\n",
    "            out_str.append(char)\n",
    "\n",
    "    return ''.join(out_str)\n"
   ]
  },
  {
   "cell_type": "markdown",
   "metadata": {},
   "source": [
    "在提供的語料中，每一列可以用分隔符號分成三個區段，分別為序號，評論內容以及評論標註，我們將評論內容與標註分開收集後，就可以餵入load_text以產生我們序列數據的data_provider。"
   ]
  },
  {
   "cell_type": "code",
   "execution_count": 7,
   "metadata": {
    "pycharm": {
     "name": "#%%\n"
    }
   },
   "outputs": [
    {
     "name": "stderr",
     "output_type": "stream",
     "text": [
      "100%|█████████████████████████████████████████████████████████████████████████| 31025/31025 [00:00<00:00, 54101.32it/s]\n"
     ]
    },
    {
     "name": "stdout",
     "output_type": "stream",
     "text": [
      "total distinct chars: 3459\n",
      "total distinct chars: 21\n",
      "data_provider( ) -> input: Tensor[(-1, 250)], label: Tensor[(-1, 250)] \n"
     ]
    }
   ],
   "source": [
    "new_data=[]\n",
    "new_tag=[]\n",
    "for raw in tqdm(data):\n",
    "    cols=raw.strip().split('\\t')\n",
    "    idx=cols[0]\n",
    "    content=str_full_to_half(cols[1].strip())\n",
    "    tag=cols[2]\n",
    "    if len(content)==len(tag):\n",
    "        new_data.append(content)\n",
    "        new_tag.append(tag)\n",
    "    else:\n",
    "        print(content,len(content),tag,len(tag))\n",
    "\n",
    "\n",
    "\n",
    "data_provider=load_text(data=new_data, label=new_tag,unit='char',mode='1to1_seq2seq',is_onehot=False,sequence_length=250,sequence_start_at='section_start')\n",
    "t1,t2=data_provider.next()\n",
    "print(data_provider.signature)\n"
   ]
  },
  {
   "cell_type": "markdown",
   "metadata": {},
   "source": [
    "我們將數據與標籤透過data_provider.index2text以及data_provider.index2label轉換為文字，列印一下，來確認輸出序列是否正確。同時透過查閱data_provider的vocabs以及label_vocabs，就能確認輸入字數以及輸出標籤類別數了，但別忘記，系統會自動加入一些輔助符號，為了確認後續進行遮罩的起點，我們可以透過data_provider.label2index反查一下有意義的標籤的起始索引。"
   ]
  },
  {
   "cell_type": "code",
   "execution_count": 8,
   "metadata": {},
   "outputs": [
    {
     "name": "stdout",
     "output_type": "stream",
     "text": [
      "<start/>第一次來銀杏湖玩,吃的東西好貴,就德克士不錯,就來了,里面很干凈,一看就是新店,東西也很好吃,都是現做出來的,阿姨很熱心,上一桌吃完剛走,我們坐下來,阿姨就立刻把垃圾都收走了。<end/><pad/><pad/><pad/><pad/><pad/><pad/><pad/><pad/><pad/><pad/><pad/><pad/><pad/><pad/><pad/><pad/><pad/><pad/><pad/><pad/><pad/><pad/><pad/><pad/><pad/><pad/><pad/><pad/><pad/><pad/><pad/><pad/><pad/><pad/><pad/><pad/><pad/><pad/><pad/><pad/><pad/><pad/><pad/><pad/><pad/><pad/><pad/><pad/><pad/><pad/><pad/><pad/><pad/><pad/><pad/><pad/><pad/><pad/><pad/><pad/><pad/><pad/><pad/><pad/><pad/><pad/><pad/><pad/><pad/><pad/><pad/><pad/><pad/><pad/><pad/><pad/><pad/><pad/><pad/><pad/><pad/><pad/><pad/><pad/><pad/><pad/><pad/><pad/><pad/><pad/><pad/><pad/><pad/><pad/><pad/><pad/><pad/><pad/><pad/><pad/><pad/><pad/><pad/><pad/><pad/><pad/><pad/><pad/><pad/><pad/><pad/><pad/><pad/><pad/><pad/><pad/><pad/><pad/><pad/><pad/><pad/><pad/><pad/><pad/><pad/><pad/><pad/><pad/><pad/><pad/><pad/><pad/><pad/><pad/><pad/><pad/><pad/><pad/><pad/><pad/><pad/><pad/><pad/><pad/><pad/><pad/><pad/><pad/><pad/><pad/><pad/><pad/><pad/><pad/><pad/><pad/><pad/><pad/><pad/><pad/>\n",
      "<start/>000000000000000000000000000JJJJJJ0000000000DDDD00DDDDDDGGGGGG000000000000000000000000000<end/><pad/><pad/><pad/><pad/><pad/><pad/><pad/><pad/><pad/><pad/><pad/><pad/><pad/><pad/><pad/><pad/><pad/><pad/><pad/><pad/><pad/><pad/><pad/><pad/><pad/><pad/><pad/><pad/><pad/><pad/><pad/><pad/><pad/><pad/><pad/><pad/><pad/><pad/><pad/><pad/><pad/><pad/><pad/><pad/><pad/><pad/><pad/><pad/><pad/><pad/><pad/><pad/><pad/><pad/><pad/><pad/><pad/><pad/><pad/><pad/><pad/><pad/><pad/><pad/><pad/><pad/><pad/><pad/><pad/><pad/><pad/><pad/><pad/><pad/><pad/><pad/><pad/><pad/><pad/><pad/><pad/><pad/><pad/><pad/><pad/><pad/><pad/><pad/><pad/><pad/><pad/><pad/><pad/><pad/><pad/><pad/><pad/><pad/><pad/><pad/><pad/><pad/><pad/><pad/><pad/><pad/><pad/><pad/><pad/><pad/><pad/><pad/><pad/><pad/><pad/><pad/><pad/><pad/><pad/><pad/><pad/><pad/><pad/><pad/><pad/><pad/><pad/><pad/><pad/><pad/><pad/><pad/><pad/><pad/><pad/><pad/><pad/><pad/><pad/><pad/><pad/><pad/><pad/><pad/><pad/><pad/><pad/><pad/><pad/><pad/><pad/><pad/><pad/><pad/><pad/><pad/><pad/><pad/><pad/><pad/>\n",
      "\n",
      "<start/>服務態度很好環境也非常不錯,就是上餐有點慢。<end/><pad/><pad/><pad/><pad/><pad/><pad/><pad/><pad/><pad/><pad/><pad/><pad/><pad/><pad/><pad/><pad/><pad/><pad/><pad/><pad/><pad/><pad/><pad/><pad/><pad/><pad/><pad/><pad/><pad/><pad/><pad/><pad/><pad/><pad/><pad/><pad/><pad/><pad/><pad/><pad/><pad/><pad/><pad/><pad/><pad/><pad/><pad/><pad/><pad/><pad/><pad/><pad/><pad/><pad/><pad/><pad/><pad/><pad/><pad/><pad/><pad/><pad/><pad/><pad/><pad/><pad/><pad/><pad/><pad/><pad/><pad/><pad/><pad/><pad/><pad/><pad/><pad/><pad/><pad/><pad/><pad/><pad/><pad/><pad/><pad/><pad/><pad/><pad/><pad/><pad/><pad/><pad/><pad/><pad/><pad/><pad/><pad/><pad/><pad/><pad/><pad/><pad/><pad/><pad/><pad/><pad/><pad/><pad/><pad/><pad/><pad/><pad/><pad/><pad/><pad/><pad/><pad/><pad/><pad/><pad/><pad/><pad/><pad/><pad/><pad/><pad/><pad/><pad/><pad/><pad/><pad/><pad/><pad/><pad/><pad/><pad/><pad/><pad/><pad/><pad/><pad/><pad/><pad/><pad/><pad/><pad/><pad/><pad/><pad/><pad/><pad/><pad/><pad/><pad/><pad/><pad/><pad/><pad/><pad/><pad/><pad/><pad/><pad/><pad/><pad/><pad/><pad/><pad/><pad/><pad/><pad/><pad/><pad/><pad/><pad/><pad/><pad/><pad/><pad/><pad/><pad/><pad/><pad/><pad/><pad/><pad/><pad/><pad/><pad/><pad/><pad/><pad/><pad/><pad/><pad/><pad/><pad/><pad/><pad/><pad/><pad/><pad/><pad/><pad/><pad/><pad/><pad/><pad/><pad/><pad/><pad/><pad/><pad/><pad/><pad/><pad/><pad/><pad/><pad/><pad/><pad/><pad/><pad/><pad/><pad/><pad/>\n",
      "<start/>GGGGGGJJJJJJJJ00IIIIII<end/><pad/><pad/><pad/><pad/><pad/><pad/><pad/><pad/><pad/><pad/><pad/><pad/><pad/><pad/><pad/><pad/><pad/><pad/><pad/><pad/><pad/><pad/><pad/><pad/><pad/><pad/><pad/><pad/><pad/><pad/><pad/><pad/><pad/><pad/><pad/><pad/><pad/><pad/><pad/><pad/><pad/><pad/><pad/><pad/><pad/><pad/><pad/><pad/><pad/><pad/><pad/><pad/><pad/><pad/><pad/><pad/><pad/><pad/><pad/><pad/><pad/><pad/><pad/><pad/><pad/><pad/><pad/><pad/><pad/><pad/><pad/><pad/><pad/><pad/><pad/><pad/><pad/><pad/><pad/><pad/><pad/><pad/><pad/><pad/><pad/><pad/><pad/><pad/><pad/><pad/><pad/><pad/><pad/><pad/><pad/><pad/><pad/><pad/><pad/><pad/><pad/><pad/><pad/><pad/><pad/><pad/><pad/><pad/><pad/><pad/><pad/><pad/><pad/><pad/><pad/><pad/><pad/><pad/><pad/><pad/><pad/><pad/><pad/><pad/><pad/><pad/><pad/><pad/><pad/><pad/><pad/><pad/><pad/><pad/><pad/><pad/><pad/><pad/><pad/><pad/><pad/><pad/><pad/><pad/><pad/><pad/><pad/><pad/><pad/><pad/><pad/><pad/><pad/><pad/><pad/><pad/><pad/><pad/><pad/><pad/><pad/><pad/><pad/><pad/><pad/><pad/><pad/><pad/><pad/><pad/><pad/><pad/><pad/><pad/><pad/><pad/><pad/><pad/><pad/><pad/><pad/><pad/><pad/><pad/><pad/><pad/><pad/><pad/><pad/><pad/><pad/><pad/><pad/><pad/><pad/><pad/><pad/><pad/><pad/><pad/><pad/><pad/><pad/><pad/><pad/><pad/><pad/><pad/><pad/><pad/><pad/><pad/><pad/><pad/><pad/><pad/><pad/><pad/><pad/><pad/><pad/><pad/><pad/><pad/><pad/><pad/>\n",
      "\n",
      "<start/>外賣確實比較多。<end/><pad/><pad/><pad/><pad/><pad/><pad/><pad/><pad/><pad/><pad/><pad/><pad/><pad/><pad/><pad/><pad/><pad/><pad/><pad/><pad/><pad/><pad/><pad/><pad/><pad/><pad/><pad/><pad/><pad/><pad/><pad/><pad/><pad/><pad/><pad/><pad/><pad/><pad/><pad/><pad/><pad/><pad/><pad/><pad/><pad/><pad/><pad/><pad/><pad/><pad/><pad/><pad/><pad/><pad/><pad/><pad/><pad/><pad/><pad/><pad/><pad/><pad/><pad/><pad/><pad/><pad/><pad/><pad/><pad/><pad/><pad/><pad/><pad/><pad/><pad/><pad/><pad/><pad/><pad/><pad/><pad/><pad/><pad/><pad/><pad/><pad/><pad/><pad/><pad/><pad/><pad/><pad/><pad/><pad/><pad/><pad/><pad/><pad/><pad/><pad/><pad/><pad/><pad/><pad/><pad/><pad/><pad/><pad/><pad/><pad/><pad/><pad/><pad/><pad/><pad/><pad/><pad/><pad/><pad/><pad/><pad/><pad/><pad/><pad/><pad/><pad/><pad/><pad/><pad/><pad/><pad/><pad/><pad/><pad/><pad/><pad/><pad/><pad/><pad/><pad/><pad/><pad/><pad/><pad/><pad/><pad/><pad/><pad/><pad/><pad/><pad/><pad/><pad/><pad/><pad/><pad/><pad/><pad/><pad/><pad/><pad/><pad/><pad/><pad/><pad/><pad/><pad/><pad/><pad/><pad/><pad/><pad/><pad/><pad/><pad/><pad/><pad/><pad/><pad/><pad/><pad/><pad/><pad/><pad/><pad/><pad/><pad/><pad/><pad/><pad/><pad/><pad/><pad/><pad/><pad/><pad/><pad/><pad/><pad/><pad/><pad/><pad/><pad/><pad/><pad/><pad/><pad/><pad/><pad/><pad/><pad/><pad/><pad/><pad/><pad/><pad/><pad/><pad/><pad/><pad/><pad/><pad/><pad/><pad/><pad/><pad/><pad/><pad/><pad/><pad/><pad/><pad/><pad/><pad/><pad/><pad/><pad/><pad/><pad/><pad/>\n",
      "<start/>00000000<end/><pad/><pad/><pad/><pad/><pad/><pad/><pad/><pad/><pad/><pad/><pad/><pad/><pad/><pad/><pad/><pad/><pad/><pad/><pad/><pad/><pad/><pad/><pad/><pad/><pad/><pad/><pad/><pad/><pad/><pad/><pad/><pad/><pad/><pad/><pad/><pad/><pad/><pad/><pad/><pad/><pad/><pad/><pad/><pad/><pad/><pad/><pad/><pad/><pad/><pad/><pad/><pad/><pad/><pad/><pad/><pad/><pad/><pad/><pad/><pad/><pad/><pad/><pad/><pad/><pad/><pad/><pad/><pad/><pad/><pad/><pad/><pad/><pad/><pad/><pad/><pad/><pad/><pad/><pad/><pad/><pad/><pad/><pad/><pad/><pad/><pad/><pad/><pad/><pad/><pad/><pad/><pad/><pad/><pad/><pad/><pad/><pad/><pad/><pad/><pad/><pad/><pad/><pad/><pad/><pad/><pad/><pad/><pad/><pad/><pad/><pad/><pad/><pad/><pad/><pad/><pad/><pad/><pad/><pad/><pad/><pad/><pad/><pad/><pad/><pad/><pad/><pad/><pad/><pad/><pad/><pad/><pad/><pad/><pad/><pad/><pad/><pad/><pad/><pad/><pad/><pad/><pad/><pad/><pad/><pad/><pad/><pad/><pad/><pad/><pad/><pad/><pad/><pad/><pad/><pad/><pad/><pad/><pad/><pad/><pad/><pad/><pad/><pad/><pad/><pad/><pad/><pad/><pad/><pad/><pad/><pad/><pad/><pad/><pad/><pad/><pad/><pad/><pad/><pad/><pad/><pad/><pad/><pad/><pad/><pad/><pad/><pad/><pad/><pad/><pad/><pad/><pad/><pad/><pad/><pad/><pad/><pad/><pad/><pad/><pad/><pad/><pad/><pad/><pad/><pad/><pad/><pad/><pad/><pad/><pad/><pad/><pad/><pad/><pad/><pad/><pad/><pad/><pad/><pad/><pad/><pad/><pad/><pad/><pad/><pad/><pad/><pad/><pad/><pad/><pad/><pad/><pad/><pad/><pad/><pad/><pad/><pad/><pad/><pad/><pad/>\n",
      "\n",
      "\n",
      "<start/><end/><unknown/><pad/>\n",
      " !#$%&'()*+,-./0123456789:;<=>?@ABCDEFGHIJKLMNOPQRSTUVWXYZ[\\]^_`abcdefghijklmnopqrstuvwxyz|~ ¡¬°·Ûòóƪȷʃʔʕ˂˃ˇˉˊˋˍ˘˙˵˶̴̶̷̛̣̤̥̫͈̀́̂̅͟͞͡εοπωЁЗдзө؂و٩ڡ۶ूଓଘ௰ಡฅงั็๑๓ᗨᴖᴗᴥᵒᵕ᷄᷅ ​‍—‘’“”•…′‸‼⁄⁍⁎⁶⁻⁽⁾₃₆€⃣℃←→↖↗∀∇∠∩∵≦≧⊙⊿⋯⌒⌓⌔⌚⌣━┻╥╭╮╯╰□▽○◍●◜◝◡☁★☆☔☕☜☞☹☺☻♀♡♩♪♫♬⛪⛰✈✌✧✨✪❛❣❤➕➰⭐⸜⸝、。《》「」『』【】〔〕〖〗〜っづのゞノヘ・ヽヾㅁㅂㅍ㉨一丁七丈三上下不丐丑且世丘丙丟丫中串丶丸丹主乃久么之乎乏乖乘九乞也乳乾亂了予亊事二于云互五井些亞交亦亨享京亭亮人什仁仇今介仍仔仕他付仙仟代令以仨仰仲件任份仿企伊伍伏伐休伙伢伯估伴伸似但佈位低住佐佑佔何佘余佛作你佩佰佳佻使侄來侈例侖供依侮侯侶便促俊俏俑俗保信修俱俺倆倉個倍們倒候借倡倦倩倪倫值假偉偌偏做停健側偶偷傅傍傘備催傲傳債傷傻傾僅像僵價僻儀億償優儲允元兄充兆兇先光克兌免兒兔兜兢入內全兩八公六兮共兵其具典兼冉冊再冒冠冤冬冰冷凈凌凍凝凡凰凱凳凸凹出刀刁分切刊列初別利刪刮到制刷券刺刻剁則前剎剔剛剝剩剪副割創劃劇劉劑力功加劣助努劵勁勃勇勉勒動務勝勞募勢勤勵勸勺勻勾勿包匆化北匠匯匹匿區十千升午半卓協南博卜占卡印危即卵卷卻厚厝原厭厲去參又叉及友反叔取受口古句另叨只叫叭叮可台史右司叼吃各吆合吉吊同名后吐向吖君吝吞否吧吩含吮吱吳吵吶吸吹吻吼吾呀呂呃呆呈告呢呦周呱呲味呵呷呼命咆咋和咐咔咕咖咧咨咩咪咬咯咱咳咸咽哀品哄哇哈哉哎員哥哦哧哨哩哪哭哮哺哼哾唄唆唇唉唐唧售唯唱啃商啊問啐啞啟啡啤啥啦啪啫啰啼喀喂善喇喉喊喔喘喙喚喜喝喧喪喬單喱喲喳喵喻嗆嗇嗎嗑嗒嗓嗚嗝嗞嗟嗦嗨嗯嗶嗷嗽嘀嘆嘈嘉嘍嘎嘖嘗嘚嘛嘞嘣嘩嘮嘰嘴嘻嘿噎噓噠噢器噪噬噯噱噴噶噹噻嚇嚎嚐嚒嚓嚕嚨嚴嚷嚼囂囊囑囖囗四回因囤囧困固圈國圍園圓圖團土圣在地圳圾址均坊坎坐坑坡坦坨坪坯坷垂垃型垢垣垮埃埇埋城埒埕域埠埥執培基堂堅堆堡堪堰報場堵塊塌塑塔塘塞塢填境墅墊墓墜增墟墨墻壁壓壕壞壟壤壩士壯壺壽夏夕外多夜夠夢大天太夫央失夷夸夾奇奈奉奎奏奔套奢奧奮女奶她好如妍妖妙妞妥妨妹妻姆始姐姑姓委姚姜姥姨姬姿威娃娘娛娜娟娣婆婚婦婧媒媚媲媳媽嫂嫌嫦嫩嫰嫻嬉嬌嬰嬲子孑孔孕字存孜孝孟季孩孫孬學它宅宇守安宋完宏宗官宙定宜客宣室宮宰害宴宵家宸容宿寄密富寒寓察寡寢寥實寧寨審寫寬寵寶寸寺封射將專尊尋對導小少尖尚尤尬就尷尸尺尼尾尿局屁居屈屋屌屏屑展屢層屬屯山屹岀岔岡岱岳岸峙峨峰島峻峽崇崎崔崗崛崩嵐嵩嶗嶺嶼川州巢工左巧巨巫差己已巳巴巷巾市布希帕帖帝帥師席帳帶常帽幅幕幟幢幣幫干平年并幸幺幻幼幽幾床序底店府度座庫庭康庸廁廂廈廉廊廓廚廟廠廢廣廬廳延廷建弄弊式弓引弗弟弱張強彈彌彎形彩彬彭彰影彼往征待很律後徐徑徒得徘從復循微徳德徹心必忌忍忒志忘忙忠快念忽怎怒怕怖思怠怡急性怨怪恃恐恒恕恢恥恨恩恬恭息恰恵恿悄悅悉悔悖悟悠患您悲悶情惋惑惜惠惡惦惰惱想惹愁愈愉意愛愜感愣愧愿慈態慌慎慕慘慚慢慣慧慨慫慮慰慶憂憊憋憐憑憚憤憩憶憾懂懇懈應懊懟懲懵懶懷懸懼戀成我戒或戚截戰戲戴戶房所扁扇扈手才扎扒打扔托扛扣扭扮扯扶批找承技抄把抑抓投抖抗折披抬抱抵抹抽拆拇拉拋拌拍拎拐拒拔拖拘招拜括拯拱拳拷拼拽拾拿持指按挎挑挖挨挪振挹挺挻捂捉捌捧捯捷掀掂掃掉掌掏排掖掙掛掠採探接控推措掰揍描提插揚換握揣揭揮損搓搖搗搜搞搪搬搭搶搽摔摘摧摩摯摳摸摻撇撈撐撒撕撞撤撥撩撫播撮撲撻撼撿擁擅擇擊擋操擔據擠擦擬擰擱擴擺擼擾攀攆攔攘攜攝攢攤攪支攴收改攻放政故效敏救敗敘教敞敢散敬敲整敵敷數文斗料斜斤斥斬斯新斷方於施旁旅旋族旗既日旦旨早旬旺昂昆昌明昏易昔星映春昨昭是時晃晉晌晗晚晨普景晴晶智晾暇暈暑暖暗暢暫暮暴曉曝曠曬曰曲更書曹曼曾替最會月有朋服朕朗望朝期木未末本朱朵杉李杏材村束杠杭杯杰東杵松板枉析枕林枚果枝枯架柏某染柔柚柜查柯柱柳柴柵柿校栲栳核根格栽桂桃框案桌桐桑桔桶桿梁梅梆梗條梧梨梯械梳棄棉棋棒棕棘棚棟棧森棵椅植椒楊楓楚楞楠業楱極概榆榕榜榨榮榴構槍槳槽樂樓標樞樟模樣樹橋橘橙機橡橫檔檢檬檸檻櫥櫻欄權欠次欣欲欸欺款歇歉歌歐歡止正此步武歧歪歲歷歸歹歺死殊殘段殺殼殿毀毅毋母每毒比毗毛毫氏民氛氣氧水永汁求汕汗江池污汪汰決汽汾沂沃沈沉沏沒沖沙沫河油治沽沾沿況泉泊法泗泛泡波泥注泰泱泳洋洗洛洞津洪洲洸活洽派流浙浦浩浪浮海浸浹涂涇消涉涌涎涯液涵涼淀淄淇淋淑淘淚淞淡淨淪淮深混淺添清減渝渡渣測港渴游渾湊湖湛湧湯溏源準溜溝溢溧溪溫溶滁滅滋滑滬滯滲滴滸滾滿漁漂漆漉漏演漕漠漢漫漬漱漲漳漸漿潑潔潘潛潞潢潤潭潮潰澀澄澆澈澗澡澤澳激濁濃濉濕濟濮濰濱濾瀏瀑瀘瀝瀟灌灑灘灣火灰炎炒炫炬炭炸為烈烊烏烘烙烤烯烴烷烹焉無焦焯然煉煌煎煙煜煥照煩煮煲熊熏熙熟熬熱燃燈燒燕燙營燥燦爆爐爛爪爬爭父爸爹爺爽爾片版牌牙牛牢牦物牲特犀犒犧犯狀狂狐狗狠狡狹狼狽猗猙猛猜猴猶獄獎獨獰獲獸獻玄率玉王玩玫玻珊珍珠班現球理琪琴琵琶瑕瑞瑣瑤瑪瑰璃璄璐璧環璽瓜瓣瓶瓷甌甕甘甚甜生產甥用甩甭田由甲申男甸界畏留畢略番畫異當疊疏疑疙疲疵疼疾病痕痘痛痹瘋瘦瘩療癌癟癡癥癮癱登發白百皂的皆皇皮皺皿盆盈益盒盛盟盡監盤盧目盯盲直相盼盾省眉看真眠眷眼眾睛睜睞睡睢督睫睬睹瞄瞅瞇瞌瞎瞞瞧瞪瞬矛矜矣知矩矬短矮石砂砍研破砸硌硬碌碎碑碗碟碦碧碩碰碳碴確碼碾磁磕磚磨磷礎礙礦礫示社祁祖祝神祠祥票祭祿禁禍福禪禮禹禽禾禿秀私秉秋秏科秒秘租秦秩移稀稅程稍稠種稱稷稽稿穆積穎穢穩究空穿突窄窗窩窮窺竄竊立站竟章童端競竹笑笛符笨第筆等筋筍筏筑筒答策筧筷箅箏算管箱節篇篤簡簸簽簾籃籌籍籠籮米籽粉粒粗粘粥粹粽精糊糕糖糙糟糠糧糨糯系糾紀約紅紋納紐純紙級紛素紡索紫累細紹終組結絕絡給絨絮統絲綁經綜綠綢維網綴綸綽綿緊緒線緣編緩緯練縈縣縫縮縱總績繁繃繆織繕繚繞繡繪繹繼繽續纏纖纜缸缺罄罐罒罕罩罪置罰署罵罷羅羊美羞群羨義羹羽翅習翔翠翰翹翻耀老考者而耍耐耗耳耶耽聊聖聘聚聞聯聰聲職聽肅肆肇肉肋肌肚肝股肥肩肪肯育肴肺胃背胎胖胚胞胡胸能脂脆脖脫脯脹脾腌腐腔腥腦腫腳腸腹腿膀膚膜膠膨膩膳膻膽臉臘臟臣臥臨自臭至致與興舉舊舌舍舒舔舜舞舟舨航般船艘艦良艱色艷艸艾芊芋芒芙芝芥芬芯花芳苑苔苛若苦英茂范茄茅茲茴茶草荊荒莆莉莊莎莓莘莫菀菇菌菓菜菠華菲萃萊萌萍萬萱落葉著董葩葫葷蒔蒙蒜蒲蒸蒼蓄蓉蓋蓬蓮蔑蔓蔥蔫蔬蔽蕃蕉蕩蕪蕭蕾薄薅薇薈薦薩薪薯藉藍藏藕藝藤藥藹藺蘆蘇蘋蘑蘭蘸蘿虎虐處虛號虧虬虹蚊蚌蚣蛇蛋蛙蛟蛾蜀蜂蜈蜜蝎蝦螂螃融蟑蟲蟹蠅蠟蠻血行衍術街衛衝衡衣表衰衷袁袋袖被裂裏裕裙補裝裡裸裹褐褲襄襪襯襲襾西要覆見規覓視覦親覬覺覽觀角解觸言訂計訊討訓記訝訥訪設許訴証詆詐評詞詢試詩詫詭話該詳認誒誓誕誘語誠誡誤說誰課誼調談請諒論諧諱諷諸諾謂謐謙講謝謹證識譜警譬議護譽讀變讓讚谷豁豆豌豎豐象豪豫豬貌貓貝負財貢貧貨販貪貫責貴買費貼貿賀賅資賊賓賞賠賣賤質賬賴賺購賽贅贈贊贏贓走起趁超越趕趙趟趣趨足趴趵跋跑距跟跡跤跨跪路跳踏踞踩踵蹄蹤蹦蹬蹭蹲躁躉躍躥身躲躺軀車軌軍軟軸較載輔輕輛輝輩輪輸輾轆轉轍轟辛辜辣辦辭辮辯辰辱農迄迅迎近返迢迦迪迫述迷追退送逃逆透逐途逗這通逛逝速造逢連進逸逼遂遇遊運遍過道達違遙遛遜遞遠遢遣適遭遲遷選遺遼避邀邁還邊邋邑那邦邪邯邵郁郊郎部郴郵都鄆鄉鄒鄭鄰鄲酌配酒酥酪酷酸醇醉醋醒醛醫醬釀采釋里重野量金釘針鈣鈴鉆銀銷鋒鋪鋼錄錘錢錦錫錯鍋鍛鍵鎂鎖鎮鏈鏡鐘鐵鑒鑫锏長門閃閉開閑間閔閘閣閨閩閬闊關阜防阻阿陀附陋陌降限陜院陣除陪陰陳陵陶陷陸陽隆隊階隔隕際障隨險隱隴隸雀雁雄雅集雕雖雙雛雜雞離難雨雪雲零雷電需震霉霎霓霖霜霞霧露霸霾靈青靚靜非靠面革鞋韋韌韓韭音韶韻響頁頂項順須頌預頑頒頓頗領頤頭頰頻顆題額顏願顛類顧顯風飄飆飛食飢飭飯飲飼飽飾餅養餌餐餓餡館餿饃饋饑饞首香馨馬馳駐駕駝駱騎騖騙騰騷驀驅驕驗驚驛驟驢骨體髖高髙髦鬧鬼魂魅魏魔魘魚魯魷鮮鯁鯉鯛鯨鰲鱈鱉鱗鳥鳳鳴鴨鴻鴿鵝鵬鷄鷹鹵鹽鹿麗麥麵麻麼黃黎黏黑黔默點黨鼎鼓鼠鼻齁齊齒齡齦龍ꈍꎤ꒳눈︎️︵︶︿﹃﹋﹏｡｢･ﾉﾟ￢￣￥�🆕🆚🈵🈶🉐🉑🌊🌚🌝🌟🌧🌯🌱🌴🌹🌾🍀🍅🍊🍋🍍🍓🍔🍕🍗🍚🍛🍜🍞🍟🍤🍦🍫🍬🍮🍱🍴🍶🍹🍺🍽🍾🎀🎁🎂🎈🎉🎊🎎🎏🎡🎵🎶🏠🏻🏼🐔🐣🐤🐥🐮🐳🐶🐷🐽👀👄👉👋👌👍👏👧👨👩👫👬👯👻💁💃💋💌💐💓💔💕💖💗💚💛💝💡💤💪💯💰💺📍📢📦🔌🔥🔪🔫🔸🔺🖒😀😁😂😃😄😅😆😇😉😊😋😌😍😎😏😑😒😓😔😕😖😘😚😛😜😝😞😠😡😢😣😤😥😨😩😪😬😭😯😰😱😳😵😶😹🙀🙁🙂🙃🙄🙆🙈🙊🙏🚄🚇🚌🚏🤑🤓🤔🤗🤜🤣🤤🤦🤷🥛𣎴\n",
      "\n",
      "<start/><end/><unknown/><pad/>\n",
      "0ABCDEFGHIJKLMNO\n",
      "\n",
      "6\n"
     ]
    }
   ],
   "source": [
    "for k in range(3):\n",
    "    print(''.join([data_provider.index2text(i) for i in t1[k]]))\n",
    "    print(''.join([data_provider.index2label(i) for i in t2[k]]))\n",
    "    print('')\n",
    "\n",
    "    \n",
    "print('')\n",
    "print(''.join(data_provider.vocabs))\n",
    "print('')\n",
    "print(''.join(data_provider.label_vocabs))\n",
    "print('')\n",
    "print(data_provider.label2index('A'))\n",
    "\n",
    "\n"
   ]
  },
  {
   "cell_type": "markdown",
   "metadata": {},
   "source": [
    "接下來是定義TextCNN的結構，請注意，因為是一對一的Seq2Seq，所以全程不使用strides>1，以確保整體長度不變。"
   ]
  },
  {
   "cell_type": "code",
   "execution_count": 9,
   "metadata": {
    "pycharm": {
     "name": "#%%\n"
    }
   },
   "outputs": [],
   "source": [
    "\n",
    "textcnn=Sequential(\n",
    "        Embedding(embedding_dim=256,num_embeddings=len(data_provider.vocabs),sparse=False,name='embed'),\n",
    "        Permute(0,2,1),\n",
    "        ConcateBlock(\n",
    "            Sequential(\n",
    "                Conv1d_Block(kernel_size=3,num_filters=512,strides=1,auto_pad=True,activation='leaky_relu',normalization='batch',dilation=1,dropout_rate=0.1),\n",
    "                Conv1d_Block(kernel_size=3,num_filters=256,strides=1,auto_pad=True,activation='leaky_relu',normalization='batch')\n",
    "            ),\n",
    "            Sequential(\n",
    "                Conv1d_Block(kernel_size=5,num_filters=512,strides=1,auto_pad=True,activation='leaky_relu',normalization='batch',dilation=1,dropout_rate=0.1),\n",
    "                Conv1d_Block(kernel_size=3,num_filters=256,strides=1,auto_pad=True,activation='leaky_relu',normalization='batch')\n",
    "            ),\n",
    "            Sequential(\n",
    "                Conv1d_Block(kernel_size=7,num_filters=512,strides=1,auto_pad=True,activation='leaky_relu',normalization='batch',dilation=1,dropout_rate=0.1),\n",
    "                Conv1d_Block(kernel_size=3,num_filters=256,strides=1,auto_pad=True,activation='leaky_relu',normalization='batch')\n",
    "            ),\n",
    "            Sequential(\n",
    "                Conv1d_Block(kernel_size=3,num_filters=512,strides=1,auto_pad=True,activation='leaky_relu',normalization='batch',dilation=3,dropout_rate=0.1),\n",
    "                Conv1d_Block(kernel_size=3,num_filters=256,strides=1,auto_pad=True,activation='leaky_relu',normalization='batch')\n",
    "            ),\n",
    "            Sequential(\n",
    "                Conv1d_Block(kernel_size=3,num_filters=512,strides=1,auto_pad=True,activation='leaky_relu',normalization='batch',dilation=6,dropout_rate=0.1),\n",
    "                Conv1d_Block(kernel_size=3,num_filters=256,strides=1,auto_pad=True,activation='leaky_relu',normalization='batch')\n",
    "            )\n",
    "        ),\n",
    "        Conv1d_Block(kernel_size=3,num_filters=256,strides=1,auto_pad=True,activation='leaky_relu',normalization='batch'),\n",
    "        Conv1d_Block(kernel_size=3,num_filters=64,strides=1,auto_pad=True,activation='leaky_relu',normalization='batch'),\n",
    "        Conv1d_Block(kernel_size=1,num_filters=len(data_provider.label_vocabs),strides=1,auto_pad=True,activation=None),\n",
    "        SoftMax(axis=1)\n",
    "    )\n"
   ]
  },
  {
   "cell_type": "markdown",
   "metadata": {},
   "source": [
    "由於最大序列長度為250，所以大多數的評論序列後方都是<PAD/>符號，這些大量的填充符號若是一起參與建模，恐怕它數量上的優勢會不利於建模收斂，因此我們需要進一步將損失函數與評估函數都加上遮罩，去除掉他們的影響。"
   ]
  },
  {
   "cell_type": "code",
   "execution_count": 10,
   "metadata": {
    "pycharm": {
     "name": "#%%\n"
    }
   },
   "outputs": [],
   "source": [
    "#加入遮罩的正確率\n",
    "def accuracy_exclude_mask(output, target):\n",
    "    output=argmax(output,1)\n",
    "    mask = (output>=6)\n",
    "    masked_output=output[mask]\n",
    "    masked_target=target[mask]\n",
    "    return reduce_mean(equal(cast(masked_output,'float32'),cast(masked_target,'float32')))\n",
    "\n",
    "#加入遮罩的召回率\n",
    "def recall_exclude_mask(output, target):\n",
    "    output = argmax(output, 1)\n",
    "    mask = (target>=6)\n",
    "    masked_output=output[mask]\n",
    "    masked_target=target[mask]\n",
    "    return  reduce_mean(equal(cast(masked_output,'float32'),cast(masked_target,'float32')))\n",
    "\n",
    "#加入遮罩的CrossEntropyLoss\n",
    "def crossentropy_exclude_mask(output, target):\n",
    "    mask = greater_equal(target,6)\n",
    "    masked_output=output*(expand_dims(mask,1))\n",
    "    masked_target=cast(target*mask,'long')\n",
    "    loss_sum=CrossEntropyLoss(reduction='sum',axis=1)(masked_output,masked_target)+CrossEntropyLoss(reduction='sum',axis=1)(output,cast(target,'long'))\n",
    "    return loss_sum.sum()#/mask.sum()\n"
   ]
  },
  {
   "cell_type": "markdown",
   "metadata": {},
   "source": [
    "同時為了確保輸出結果是正確的，我們讓模型每跑500次，就列印一次推論結果，我們在此使用trigger_when這個新功能，就可以簡單的定義一個函數就能遷入到訓練流程中。"
   ]
  },
  {
   "cell_type": "code",
   "execution_count": 11,
   "metadata": {},
   "outputs": [
    {
     "name": "stdout",
     "output_type": "stream",
     "text": [
      "cross entropy( output, target) -> cross entropy \n",
      "accuracy( output, target) -> accuracy \n",
      "recall( output, target) -> recall \n",
      "Automatic Mixed Precision:Turn On.\n",
      "--------------------------------------------------------------------------------------------------------------------------------\n",
      "              Layer (type)                   Output Shape            Weight           Bias    Param #     FLOPS #   \n",
      "==============================================================================\n",
      "embed                                    [-1, 250, 256]        [3459, 256]                    885504    453377792.0 \n",
      "1                                        [-1, 256, 250]                                       0         0.0         \n",
      "2.branch1.0.conv                         [-1, 512, 250]        [512, 256, 3]                  393216    196607750.0 \n",
      "2.branch1.0.norm                         [-1, 512, 250]        [512]                [512]     1024      383750.0    \n",
      "2.branch1.0                              [-1, 512, 250]                                       0         0.0         \n",
      "2.branch1.1.conv                         [-1, 256, 250]        [256, 512, 3]                  393216    196607750.0 \n",
      "2.branch1.1.norm                         [-1, 256, 250]        [256]                [256]     512       191750.0    \n",
      "2.branch1.1                              [-1, 256, 250]                                       0         0.0         \n",
      "2.branch2.0.conv                         [-1, 512, 250]        [512, 256, 5]                  655360    327679750.0 \n",
      "2.branch2.0.norm                         [-1, 512, 250]        [512]                [512]     1024      383750.0    \n",
      "2.branch2.0                              [-1, 512, 250]                                       0         0.0         \n",
      "2.branch2.1.conv                         [-1, 256, 250]        [256, 512, 3]                  393216    196607750.0 \n",
      "2.branch2.1.norm                         [-1, 256, 250]        [256]                [256]     512       191750.0    \n",
      "2.branch2.1                              [-1, 256, 250]                                       0         0.0         \n",
      "2.branch3.0.conv                         [-1, 512, 250]        [512, 256, 7]                  917504    458751750.0 \n",
      "2.branch3.0.norm                         [-1, 512, 250]        [512]                [512]     1024      383750.0    \n",
      "2.branch3.0                              [-1, 512, 250]                                       0         0.0         \n",
      "2.branch3.1.conv                         [-1, 256, 250]        [256, 512, 3]                  393216    196607750.0 \n",
      "2.branch3.1.norm                         [-1, 256, 250]        [256]                [256]     512       191750.0    \n",
      "2.branch3.1                              [-1, 256, 250]                                       0         0.0         \n",
      "2.branch4.0.conv                         [-1, 512, 250]        [512, 256, 3]                  393216    196607750.0 \n",
      "2.branch4.0.norm                         [-1, 512, 250]        [512]                [512]     1024      383750.0    \n",
      "2.branch4.0                              [-1, 512, 250]                                       0         0.0         \n",
      "2.branch4.1.conv                         [-1, 256, 250]        [256, 512, 3]                  393216    196607750.0 \n",
      "2.branch4.1.norm                         [-1, 256, 250]        [256]                [256]     512       191750.0    \n",
      "2.branch4.1                              [-1, 256, 250]                                       0         0.0         \n",
      "2.branch5.0.conv                         [-1, 512, 250]        [512, 256, 3]                  393216    196607750.0 \n",
      "2.branch5.0.norm                         [-1, 512, 250]        [512]                [512]     1024      383750.0    \n",
      "2.branch5.0                              [-1, 512, 250]                                       0         0.0         \n",
      "2.branch5.1.conv                         [-1, 256, 250]        [256, 512, 3]                  393216    196607750.0 \n",
      "2.branch5.1.norm                         [-1, 256, 250]        [256]                [256]     512       191750.0    \n",
      "2.branch5.1                              [-1, 256, 250]                                       0         0.0         \n",
      "2                                        [-1, 1280, 250]                                      0         0.0         \n",
      "3.conv                                   [-1, 256, 250]        [256, 1280, 3]                 983040    491519750.0 \n",
      "3.norm                                   [-1, 256, 250]        [256]                [256]     512       191750.0    \n",
      "3                                        [-1, 256, 250]                                       0         0.0         \n",
      "4.conv                                   [-1, 64, 250]         [64, 256, 3]                   49152     24575750.0  \n",
      "4.norm                                   [-1, 64, 250]         [64]                 [64]      128       47750.0     \n",
      "4                                        [-1, 64, 250]                                        0         0.0         \n",
      "5.conv                                   [-1, 21, 250]         [21, 64, 1]                    1344      671750.0    \n",
      "5                                        [-1, 21, 250]                                        0         0.0         \n",
      "6                                        [-1, 21, 250]                                        0         0.0         \n",
      "================================================================\n",
      "Total params: 6,645,952\n",
      "Trainable params: 6,645,952\n",
      "Non-trainable params: 0\n",
      "Total MACC: 1,665,761,024\n",
      "Total FLOPs: 3.33256 GFLOPs\n",
      "----------------------------------------------------------------\n",
      "Input size (MB): 0.00\n",
      "Forward/backward pass size (MB): 27.34\n",
      "Params size (MB): 25.35\n",
      "Estimated Total Size (MB): 52.70\n",
      "----------------------------------------------------------------\n"
     ]
    }
   ],
   "source": [
    "def test_reading(training_context):\n",
    "    \"\"\"\n",
    "\n",
    "    :param training_context:\n",
    "    :type training_context:\n",
    "    \"\"\"\n",
    "    global data_provider\n",
    "    epoch = training_context['current_epoch']\n",
    "    batch = training_context['current_batch']\n",
    "    num_batch = training_context['total_batch']\n",
    "    if (epoch * num_batch + batch+1)% 500 == 0:\n",
    "        model =copy.deepcopy( training_context['current_model'])\n",
    "        # 模型千萬記得要轉換成eval模式\n",
    "        model.eval()\n",
    "        data_feed=training_context['data_feed']\n",
    "        training_data=training_context['train_data']\n",
    "\n",
    "        input=training_context['train_data'][data_feed[model.signature.inputs.key_list[0]]].to(model.device)\n",
    "        output=argmax(model(input),1)\n",
    "\n",
    "        for k in range(3):\n",
    "            in_text=[data_provider.index2text(i) for i in to_numpy(input[k])]\n",
    "            out_text=[data_provider.index2label(i) for i in to_numpy(output[k])]\n",
    "            idx=in_text.index('<pad/>')\n",
    "            print(''.join(in_text[:idx]))\n",
    "            print(''.join(out_text[:idx]))\n",
    "            print('')\n",
    "\n",
    "\n",
    "\n",
    "model = Model(inputs=t1, output=textcnn) \\\n",
    "    .with_optimizer(optimizer='Ranger', lr=2e-3, betas=(0.9, 0.999)) \\\n",
    "    .with_loss(crossentropy_exclude_mask, loss_weight=1, name='cross entropy') \\\n",
    "    .with_metric(accuracy_exclude_mask, name='accuracy') \\\n",
    "    .with_metric(recall_exclude_mask, name='recall') \\\n",
    "    .with_regularizer('l2') \\\n",
    "    .with_constraint('min_max_norm') \\\n",
    "    .trigger_when('on_batch_end', action=test_reading) \\\n",
    "    .with_learning_rate_scheduler(reduce_lr_on_plateau, monitor='accuracy', mode='max', factor=0.75, patience=5, cooldown=1, threshold=1e-4, warmup=0) \\\n",
    "    .with_model_save_path('Models/textcnn.pth') \\\n",
    "    .with_automatic_mixed_precision_training()\n",
    "\n",
    "model.summary()\n"
   ]
  },
  {
   "cell_type": "markdown",
   "metadata": {},
   "source": [
    "最後，把模型與數據提供者整合至學習計畫，就可以進行訓練了。"
   ]
  },
  {
   "cell_type": "code",
   "execution_count": null,
   "metadata": {
    "pycharm": {
     "name": "#%%\n"
    }
   },
   "outputs": [
    {
     "data": {
      "image/png": "[encoded data removed]",
      "text/plain": [
       "<Figure size 1296x576 with 2 Axes>"
      ]
     },
     "metadata": {},
     "output_type": "display_data"
    },
    {
     "name": "stdout",
     "output_type": "stream",
     "text": [
      "model 0      Step: 37s706ms | Loss: 0.05321 | accuracy: 98.984% ,recall: 99.419%  | learning rate: 2.000e-03 | epoch: 60  ( 500/970 )\n",
      "model 0      Step: 35s320ms | Loss: 0.05281 | accuracy: 99.065% ,recall: 99.531%  | learning rate: 2.000e-03 | epoch: 60  ( 600/970 )\n"
     ]
    }
   ],
   "source": [
    "\n",
    "plan=TrainingPlan()\\\n",
    "    .add_training_item(model)\\\n",
    "    .with_data_loader(data_provider)\\\n",
    "    .repeat_epochs(100)\\\n",
    "    .within_minibatch_size(32)\\\n",
    "    .print_progress_scheduling(100,unit='batch')\\\n",
    "    .display_loss_metric_curve_scheduling(frequency=500,unit='batch',imshow=True)\\\n",
    "    .print_gradients_scheduling(500)\\\n",
    "    .save_model_scheduling(200,unit='batch')  \n",
    "\n",
    "plan.start_now()\n"
   ]
  }
 ],
 "metadata": {
  "kernelspec": {
   "display_name": "Python 3",
   "language": "python",
   "name": "python3"
  },
  "language_info": {
   "codemirror_mode": {
    "name": "ipython",
    "version": 3
   },
   "file_extension": ".py",
   "mimetype": "text/x-python",
   "name": "python",
   "nbconvert_exporter": "python",
   "pygments_lexer": "ipython3",
   "version": "3.6.5"
  },
  "pycharm": {
   "stem_cell": {
    "cell_type": "raw",
    "metadata": {
     "collapsed": false
    },
    "source": []
   }
  }
 },
 "nbformat": 4,
 "nbformat_minor": 1
}
